{
 "cells": [
  {
   "cell_type": "code",
   "execution_count": 4,
   "id": "eb6c4295",
   "metadata": {},
   "outputs": [
    {
     "name": "stderr",
     "output_type": "stream",
     "text": [
      "C:\\Users\\Mind-Graph\\AppData\\Local\\Temp\\ipykernel_23040\\817368715.py:6: FutureWarning: Could not cast to int32, falling back to object. This behavior is deprecated. In a future version, when a dtype is passed to 'DataFrame', either all columns will be cast to that dtype, or a TypeError will be raised.\n",
      "  df = pd.DataFrame(lst, columns =['FName', 'LName', 'Age'],\n"
     ]
    }
   ],
   "source": [
    "import pandas as pd   \n",
    "         \n",
    "lst = [['tom', 'reacher', 25], ['krish', 'pete', 30],  \n",
    "       ['nick', 'wilson', 26], ['juli', 'williams', 22]]  \n",
    "      \n",
    "df = pd.DataFrame(lst, columns =['FName', 'LName', 'Age'], \n",
    "                                           dtype = int)\n"
   ]
  },
  {
   "cell_type": "code",
   "execution_count": 5,
   "id": "b338b7e0",
   "metadata": {},
   "outputs": [
    {
     "data": {
      "text/html": [
       "<div>\n",
       "<style scoped>\n",
       "    .dataframe tbody tr th:only-of-type {\n",
       "        vertical-align: middle;\n",
       "    }\n",
       "\n",
       "    .dataframe tbody tr th {\n",
       "        vertical-align: top;\n",
       "    }\n",
       "\n",
       "    .dataframe thead th {\n",
       "        text-align: right;\n",
       "    }\n",
       "</style>\n",
       "<table border=\"1\" class=\"dataframe\">\n",
       "  <thead>\n",
       "    <tr style=\"text-align: right;\">\n",
       "      <th></th>\n",
       "      <th>FName</th>\n",
       "      <th>LName</th>\n",
       "      <th>Age</th>\n",
       "    </tr>\n",
       "  </thead>\n",
       "  <tbody>\n",
       "    <tr>\n",
       "      <th>0</th>\n",
       "      <td>tom</td>\n",
       "      <td>reacher</td>\n",
       "      <td>25</td>\n",
       "    </tr>\n",
       "    <tr>\n",
       "      <th>1</th>\n",
       "      <td>krish</td>\n",
       "      <td>pete</td>\n",
       "      <td>30</td>\n",
       "    </tr>\n",
       "    <tr>\n",
       "      <th>2</th>\n",
       "      <td>nick</td>\n",
       "      <td>wilson</td>\n",
       "      <td>26</td>\n",
       "    </tr>\n",
       "    <tr>\n",
       "      <th>3</th>\n",
       "      <td>juli</td>\n",
       "      <td>williams</td>\n",
       "      <td>22</td>\n",
       "    </tr>\n",
       "  </tbody>\n",
       "</table>\n",
       "</div>"
      ],
      "text/plain": [
       "   FName     LName  Age\n",
       "0    tom   reacher   25\n",
       "1  krish      pete   30\n",
       "2   nick    wilson   26\n",
       "3   juli  williams   22"
      ]
     },
     "execution_count": 5,
     "metadata": {},
     "output_type": "execute_result"
    }
   ],
   "source": [
    "df"
   ]
  },
  {
   "cell_type": "code",
   "execution_count": 7,
   "id": "fdc9adf0",
   "metadata": {},
   "outputs": [],
   "source": [
    "data = {'Category':['Array', 'Stack', 'Queue'],\n",
    "        'Marks':[20, 21, 19]} \n",
    " \n",
    "df1 = pd.DataFrame(data) "
   ]
  },
  {
   "cell_type": "code",
   "execution_count": 9,
   "id": "efdf46bd",
   "metadata": {},
   "outputs": [
    {
     "data": {
      "text/html": [
       "<div>\n",
       "<style scoped>\n",
       "    .dataframe tbody tr th:only-of-type {\n",
       "        vertical-align: middle;\n",
       "    }\n",
       "\n",
       "    .dataframe tbody tr th {\n",
       "        vertical-align: top;\n",
       "    }\n",
       "\n",
       "    .dataframe thead th {\n",
       "        text-align: right;\n",
       "    }\n",
       "</style>\n",
       "<table border=\"1\" class=\"dataframe\">\n",
       "  <thead>\n",
       "    <tr style=\"text-align: right;\">\n",
       "      <th></th>\n",
       "      <th>Category</th>\n",
       "      <th>Marks</th>\n",
       "    </tr>\n",
       "  </thead>\n",
       "  <tbody>\n",
       "    <tr>\n",
       "      <th>0</th>\n",
       "      <td>Array</td>\n",
       "      <td>20</td>\n",
       "    </tr>\n",
       "    <tr>\n",
       "      <th>1</th>\n",
       "      <td>Stack</td>\n",
       "      <td>21</td>\n",
       "    </tr>\n",
       "    <tr>\n",
       "      <th>2</th>\n",
       "      <td>Queue</td>\n",
       "      <td>19</td>\n",
       "    </tr>\n",
       "  </tbody>\n",
       "</table>\n",
       "</div>"
      ],
      "text/plain": [
       "  Category  Marks\n",
       "0    Array     20\n",
       "1    Stack     21\n",
       "2    Queue     19"
      ]
     },
     "execution_count": 9,
     "metadata": {},
     "output_type": "execute_result"
    }
   ],
   "source": [
    "df1"
   ]
  },
  {
   "cell_type": "code",
   "execution_count": 11,
   "id": "b7d55577",
   "metadata": {},
   "outputs": [],
   "source": [
    "data = {'Category':['Array', 'Stack', 'Queue'],\n",
    "        'Student_1':[20, 21, 19], 'Student_2':[15, 20, 14]} \n",
    "  \n",
    "df3 = pd.DataFrame(data) "
   ]
  },
  {
   "cell_type": "code",
   "execution_count": 12,
   "id": "dc4a02bc",
   "metadata": {},
   "outputs": [
    {
     "data": {
      "text/html": [
       "<div>\n",
       "<style scoped>\n",
       "    .dataframe tbody tr th:only-of-type {\n",
       "        vertical-align: middle;\n",
       "    }\n",
       "\n",
       "    .dataframe tbody tr th {\n",
       "        vertical-align: top;\n",
       "    }\n",
       "\n",
       "    .dataframe thead th {\n",
       "        text-align: right;\n",
       "    }\n",
       "</style>\n",
       "<table border=\"1\" class=\"dataframe\">\n",
       "  <thead>\n",
       "    <tr style=\"text-align: right;\">\n",
       "      <th></th>\n",
       "      <th>Category</th>\n",
       "      <th>Student_1</th>\n",
       "      <th>Student_2</th>\n",
       "    </tr>\n",
       "  </thead>\n",
       "  <tbody>\n",
       "    <tr>\n",
       "      <th>0</th>\n",
       "      <td>Array</td>\n",
       "      <td>20</td>\n",
       "      <td>15</td>\n",
       "    </tr>\n",
       "    <tr>\n",
       "      <th>1</th>\n",
       "      <td>Stack</td>\n",
       "      <td>21</td>\n",
       "      <td>20</td>\n",
       "    </tr>\n",
       "    <tr>\n",
       "      <th>2</th>\n",
       "      <td>Queue</td>\n",
       "      <td>19</td>\n",
       "      <td>14</td>\n",
       "    </tr>\n",
       "  </tbody>\n",
       "</table>\n",
       "</div>"
      ],
      "text/plain": [
       "  Category  Student_1  Student_2\n",
       "0    Array         20         15\n",
       "1    Stack         21         20\n",
       "2    Queue         19         14"
      ]
     },
     "execution_count": 12,
     "metadata": {},
     "output_type": "execute_result"
    }
   ],
   "source": [
    "df3"
   ]
  },
  {
   "cell_type": "code",
   "execution_count": 13,
   "id": "05da9430",
   "metadata": {},
   "outputs": [
    {
     "data": {
      "text/html": [
       "<div>\n",
       "<style scoped>\n",
       "    .dataframe tbody tr th:only-of-type {\n",
       "        vertical-align: middle;\n",
       "    }\n",
       "\n",
       "    .dataframe tbody tr th {\n",
       "        vertical-align: top;\n",
       "    }\n",
       "\n",
       "    .dataframe thead th {\n",
       "        text-align: right;\n",
       "    }\n",
       "</style>\n",
       "<table border=\"1\" class=\"dataframe\">\n",
       "  <thead>\n",
       "    <tr style=\"text-align: right;\">\n",
       "      <th></th>\n",
       "      <th>0</th>\n",
       "      <th>1</th>\n",
       "      <th>2</th>\n",
       "    </tr>\n",
       "  </thead>\n",
       "  <tbody>\n",
       "    <tr>\n",
       "      <th>Category</th>\n",
       "      <td>Array</td>\n",
       "      <td>Stack</td>\n",
       "      <td>Queue</td>\n",
       "    </tr>\n",
       "    <tr>\n",
       "      <th>Student_1</th>\n",
       "      <td>20</td>\n",
       "      <td>21</td>\n",
       "      <td>19</td>\n",
       "    </tr>\n",
       "    <tr>\n",
       "      <th>Student_2</th>\n",
       "      <td>15</td>\n",
       "      <td>20</td>\n",
       "      <td>14</td>\n",
       "    </tr>\n",
       "  </tbody>\n",
       "</table>\n",
       "</div>"
      ],
      "text/plain": [
       "               0      1      2\n",
       "Category   Array  Stack  Queue\n",
       "Student_1     20     21     19\n",
       "Student_2     15     20     14"
      ]
     },
     "execution_count": 13,
     "metadata": {},
     "output_type": "execute_result"
    }
   ],
   "source": [
    "df3.transpose()"
   ]
  },
  {
   "cell_type": "code",
   "execution_count": 16,
   "id": "2452d376",
   "metadata": {},
   "outputs": [
    {
     "ename": "NameError",
     "evalue": "name 'Runway' is not defined",
     "output_type": "error",
     "traceback": [
      "\u001b[1;31m---------------------------------------------------------------------------\u001b[0m",
      "\u001b[1;31mNameError\u001b[0m                                 Traceback (most recent call last)",
      "\u001b[1;32m~\\AppData\\Local\\Temp\\ipykernel_23040\\3910769595.py\u001b[0m in \u001b[0;36m<module>\u001b[1;34m\u001b[0m\n\u001b[1;32m----> 1\u001b[1;33m \u001b[1;32mif\u001b[0m \u001b[1;33m(\u001b[0m\u001b[0mRunway\u001b[0m\u001b[1;33m==\u001b[0m\u001b[1;34m\"free\"\u001b[0m\u001b[1;33m)\u001b[0m\u001b[1;33m:\u001b[0m\u001b[1;33m\u001b[0m\u001b[1;33m\u001b[0m\u001b[0m\n\u001b[0m\u001b[0;32m      2\u001b[0m     \u001b[0mprint\u001b[0m\u001b[1;33m(\u001b[0m\u001b[1;34m\"Land\"\u001b[0m\u001b[1;33m)\u001b[0m\u001b[1;33m\u001b[0m\u001b[1;33m\u001b[0m\u001b[0m\n\u001b[0;32m      3\u001b[0m \u001b[1;32melif\u001b[0m \u001b[1;33m(\u001b[0m\u001b[0mFuel_Status\u001b[0m\u001b[1;33m==\u001b[0m\u001b[1;34m\"low\"\u001b[0m\u001b[1;33m)\u001b[0m\u001b[1;33m:\u001b[0m\u001b[1;33m\u001b[0m\u001b[1;33m\u001b[0m\u001b[0m\n\u001b[0;32m      4\u001b[0m      \u001b[0mprint\u001b[0m\u001b[1;33m(\u001b[0m\u001b[1;34m\"Emergency landing\"\u001b[0m\u001b[1;33m)\u001b[0m\u001b[1;33m\u001b[0m\u001b[1;33m\u001b[0m\u001b[0m\n\u001b[0;32m      5\u001b[0m \u001b[1;32melse\u001b[0m\u001b[1;33m:\u001b[0m\u001b[1;33m\u001b[0m\u001b[1;33m\u001b[0m\u001b[0m\n",
      "\u001b[1;31mNameError\u001b[0m: name 'Runway' is not defined"
     ]
    }
   ],
   "source": [
    "if (Runway==\"free\"):\n",
    "    print(\"Land\")\n",
    "elif (Fuel_Status==\"low\"):\n",
    "     print(\"Emergency landing\")\n",
    "else:\n",
    "     print(\"Circle in the air\")"
   ]
  },
  {
   "cell_type": "code",
   "execution_count": 22,
   "id": "830e8de5",
   "metadata": {},
   "outputs": [
    {
     "ename": "SyntaxError",
     "evalue": "invalid syntax (928407554.py, line 7)",
     "output_type": "error",
     "traceback": [
      "\u001b[1;36m  File \u001b[1;32m\"C:\\Users\\Mind-Graph\\AppData\\Local\\Temp\\ipykernel_23040\\928407554.py\"\u001b[1;36m, line \u001b[1;32m7\u001b[0m\n\u001b[1;33m    set the radius;\u001b[0m\n\u001b[1;37m        ^\u001b[0m\n\u001b[1;31mSyntaxError\u001b[0m\u001b[1;31m:\u001b[0m invalid syntax\n"
     ]
    }
   ],
   "source": [
    "import turtle # allows us to use the turtles library\n",
    "\n",
    "wn = turtle.Screen() # creates a graphics window\n",
    "wn.setup(400,400) # set window dimension\n",
    "\n",
    "circle_rad=50 \n",
    "set the radius;\n",
    "rectangle_width=150 \n",
    "set the width;\n",
    "rectangle_height=80 \n",
    "set the height;\n",
    "\n",
    "alex = turtle.Turtle() # create a turtle named alex\n",
    "alex.shape(\"turtle\") # alex looks like a turtle\n",
    "alex.color('red') # alex has a color\n",
    "alex.circle(circle_rad)\n",
    "alex.backward(rectangle_width/2)\n",
    "alex.forward(rectangle_width)\n",
    "alex.right(90)\n",
    "alex.forward(rectangle_height)\n",
    "alex.right(90)\n",
    "alex.forward(rectangle_width)\n",
    "alex.right(90)\n",
    "alex.forward(rectangle_height)"
   ]
  },
  {
   "cell_type": "code",
   "execution_count": 24,
   "id": "85f9d089",
   "metadata": {},
   "outputs": [
    {
     "name": "stdout",
     "output_type": "stream",
     "text": [
      "50\n"
     ]
    }
   ],
   "source": [
    "num1 = 10\n",
    "num2 = 5\n",
    "num2 *= num1\n",
    "print(num2)"
   ]
  },
  {
   "cell_type": "code",
   "execution_count": 25,
   "id": "3ea651db",
   "metadata": {},
   "outputs": [],
   "source": [
    "num1 = 50\n",
    "num2 = 2\n",
    "num3 = 3\n",
    "num4 = 8\n",
    "result = num1/num4-num3*num2+num4"
   ]
  },
  {
   "cell_type": "code",
   "execution_count": 26,
   "id": "555f21c8",
   "metadata": {},
   "outputs": [
    {
     "data": {
      "text/plain": [
       "8.25"
      ]
     },
     "execution_count": 26,
     "metadata": {},
     "output_type": "execute_result"
    }
   ],
   "source": [
    "result"
   ]
  },
  {
   "cell_type": "code",
   "execution_count": 27,
   "id": "d5e08422",
   "metadata": {},
   "outputs": [
    {
     "name": "stdout",
     "output_type": "stream",
     "text": [
      "Enter the radius of the circle: 5\n",
      "The area of the circle with radius 5.0 is: 78.5\n"
     ]
    }
   ],
   "source": [
    "# Input the radius from the user\n",
    "radius = float(input(\"Enter the radius of the circle: \"))\n",
    "\n",
    "# Calculate the area using the formula\n",
    "area = 3.14 * radius * radius\n",
    "\n",
    "# Display the result\n",
    "print(f\"The area of the circle with radius {radius} is: {area}\")\n"
   ]
  },
  {
   "cell_type": "code",
   "execution_count": 28,
   "id": "e702f7f1",
   "metadata": {},
   "outputs": [
    {
     "name": "stdout",
     "output_type": "stream",
     "text": [
      "Temperature Conversion Menu:\n",
      "1. Celsius to Fahrenheit\n",
      "2. Fahrenheit to Celsius\n",
      "3. Quit\n",
      "Enter your choice (1/2/3): 1\n",
      "Enter temperature in Celsius: 34\n",
      "34.0°C is equal to 93.2°F\n",
      "\n",
      "Temperature Conversion Menu:\n",
      "1. Celsius to Fahrenheit\n",
      "2. Fahrenheit to Celsius\n",
      "3. Quit\n",
      "Enter your choice (1/2/3): 32\n",
      "Invalid choice. Please enter 1, 2, or 3.\n",
      "\n",
      "Temperature Conversion Menu:\n",
      "1. Celsius to Fahrenheit\n",
      "2. Fahrenheit to Celsius\n",
      "3. Quit\n",
      "Enter your choice (1/2/3): 67\n",
      "Invalid choice. Please enter 1, 2, or 3.\n",
      "\n",
      "Temperature Conversion Menu:\n",
      "1. Celsius to Fahrenheit\n",
      "2. Fahrenheit to Celsius\n",
      "3. Quit\n",
      "Enter your choice (1/2/3): 3\n",
      "Exiting the program.\n"
     ]
    }
   ],
   "source": [
    "# Function to convert Celsius to Fahrenheit\n",
    "def celsius_to_fahrenheit(celsius):\n",
    "    fahrenheit = (celsius * 9/5) + 32\n",
    "    return fahrenheit\n",
    "\n",
    "# Function to convert Fahrenheit to Celsius\n",
    "def fahrenheit_to_celsius(fahrenheit):\n",
    "    celsius = (fahrenheit - 32) * 5/9\n",
    "    return celsius\n",
    "\n",
    "# Main program\n",
    "while True:\n",
    "    print(\"Temperature Conversion Menu:\")\n",
    "    print(\"1. Celsius to Fahrenheit\")\n",
    "    print(\"2. Fahrenheit to Celsius\")\n",
    "    print(\"3. Quit\")\n",
    "    \n",
    "    choice = int(input(\"Enter your choice (1/2/3): \"))\n",
    "    \n",
    "    if choice == 1:\n",
    "        celsius = float(input(\"Enter temperature in Celsius: \"))\n",
    "        fahrenheit = celsius_to_fahrenheit(celsius)\n",
    "        print(f\"{celsius}°C is equal to {fahrenheit}°F\\n\")\n",
    "    elif choice == 2:\n",
    "        fahrenheit = float(input(\"Enter temperature in Fahrenheit: \"))\n",
    "        celsius = fahrenheit_to_celsius(fahrenheit)\n",
    "        print(f\"{fahrenheit}°F is equal to {celsius}°C\\n\")\n",
    "    elif choice == 3:\n",
    "        print(\"Exiting the program.\")\n",
    "        break\n",
    "    else:\n",
    "        print(\"Invalid choice. Please enter 1, 2, or 3.\\n\")\n"
   ]
  },
  {
   "cell_type": "code",
   "execution_count": 29,
   "id": "08c6e6fb",
   "metadata": {},
   "outputs": [
    {
     "name": "stdout",
     "output_type": "stream",
     "text": [
      "2\n"
     ]
    }
   ],
   "source": [
    "num1=100\n",
    "num2=200\n",
    "num3=6\n",
    "if(5>=num3):\n",
    "    if(num1>100 or num2>150):\n",
    "        print(\"1\")\n",
    "elif(num1>=100 and num2>150):\n",
    "    print(\"2\")\n",
    "else:\n",
    "    print(\"3\")"
   ]
  },
  {
   "cell_type": "code",
   "execution_count": 30,
   "id": "37ea5c01",
   "metadata": {},
   "outputs": [
    {
     "name": "stdout",
     "output_type": "stream",
     "text": [
      "2\n"
     ]
    }
   ],
   "source": [
    "if((num1/num2==5) and (num1+num2)>5):\n",
    "    print(\"1\")\n",
    "elif((num1-num2)<=1 or (num1%num2)==0):\n",
    "    print(\"2\")\n",
    "else:\n",
    "    print(\"3\")\n",
    " "
   ]
  },
  {
   "cell_type": "code",
   "execution_count": 31,
   "id": "baddaa69",
   "metadata": {},
   "outputs": [
    {
     "name": "stdout",
     "output_type": "stream",
     "text": [
      "44\n"
     ]
    }
   ],
   "source": [
    "a = -10\n",
    "b = -200\n",
    "c = 2000\n",
    "d = 4000\n",
    "if( a*b >=d):\n",
    "    if(d>c):\n",
    "        if(d%c!=0):\n",
    "            print(11)\n",
    "        else:\n",
    "            print(22)\n",
    "else:\n",
    "    if(b/a >0):\n",
    "        if(a<b or d%c!=0):\n",
    "          print(33)\n",
    "        else:\n",
    "          print(44)"
   ]
  },
  {
   "cell_type": "code",
   "execution_count": 42,
   "id": "63b3fa3f",
   "metadata": {},
   "outputs": [],
   "source": [
    "for variable_1 in range(1,5,-1):\n",
    "    print(\"executed\")"
   ]
  },
  {
   "cell_type": "code",
   "execution_count": 43,
   "id": "0a6ba4dc",
   "metadata": {},
   "outputs": [
    {
     "name": "stdout",
     "output_type": "stream",
     "text": [
      "TPF\n",
      "Not TPF\n",
      "Not TPF\n",
      "Not TPF\n",
      "TPF\n",
      "TPF\n",
      "Not TPF\n"
     ]
    }
   ],
   "source": [
    "grade_list = [\"A+\",\"A-\",\"B\",\"B+\",\"A+\",\"A+\",\"A-\"]\n",
    "for grade in grade_list:\n",
    "    if grade == \"A+\":\n",
    "        print(\"TPF\")\n",
    "    else:\n",
    "        print(\"Not TPF\")"
   ]
  },
  {
   "cell_type": "code",
   "execution_count": 44,
   "id": "51ccf12d",
   "metadata": {},
   "outputs": [
    {
     "name": "stdout",
     "output_type": "stream",
     "text": [
      "25\n",
      "26\n",
      "27\n",
      "28\n"
     ]
    }
   ],
   "source": [
    "number=28\n",
    "for num in range(25,30):\n",
    "    if(number>num):\n",
    "        print(num)\n",
    "    else:\n",
    "        print(num)\n",
    "        break"
   ]
  },
  {
   "cell_type": "code",
   "execution_count": 45,
   "id": "4f0d19e5",
   "metadata": {},
   "outputs": [
    {
     "name": "stdout",
     "output_type": "stream",
     "text": [
      "45 50 90 "
     ]
    }
   ],
   "source": [
    "for num in 23, 45, 50, 65, 76, 90:\n",
    "    if(num%5!=0):\n",
    "        continue\n",
    "    if(num%10==0):\n",
    "        print(num, end=\" \")\n",
    "        continue\n",
    "    if(num%3==0):\n",
    "        print(num, end=\" \")"
   ]
  },
  {
   "cell_type": "code",
   "execution_count": 46,
   "id": "3ac7ca47",
   "metadata": {},
   "outputs": [
    {
     "name": "stdout",
     "output_type": "stream",
     "text": [
      "10 20 15 30 "
     ]
    }
   ],
   "source": [
    "for number in 10,15:\n",
    "    for counter in range(1,3):\n",
    "        print(number*counter, end=\" \")"
   ]
  },
  {
   "cell_type": "code",
   "execution_count": 47,
   "id": "1e268091",
   "metadata": {},
   "outputs": [
    {
     "ename": "SyntaxError",
     "evalue": "invalid syntax (682529965.py, line 1)",
     "output_type": "error",
     "traceback": [
      "\u001b[1;36m  File \u001b[1;32m\"C:\\Users\\Mind-Graph\\AppData\\Local\\Temp\\ipykernel_23040\\682529965.py\"\u001b[1;36m, line \u001b[1;32m1\u001b[0m\n\u001b[1;33m    num1=?\u001b[0m\n\u001b[1;37m         ^\u001b[0m\n\u001b[1;31mSyntaxError\u001b[0m\u001b[1;31m:\u001b[0m invalid syntax\n"
     ]
    }
   ],
   "source": [
    "num1=?\n",
    "num2=?\n",
    "while(num1>=2):\n",
    "    if(num1>num2):\n",
    "        num1=num1/2\n",
    "    else:\n",
    "        print(num1)\n",
    "        break\n",
    " "
   ]
  },
  {
   "cell_type": "code",
   "execution_count": 48,
   "id": "e0f97e65",
   "metadata": {},
   "outputs": [
    {
     "name": "stdout",
     "output_type": "stream",
     "text": [
      "12\n"
     ]
    }
   ],
   "source": [
    "numbers_list = [98,45,60,71,90]\n",
    "count = 10\n",
    "for number in numbers_list:\n",
    "    if number % 10 == 0:\n",
    "        count -= 1\n",
    "        continue\n",
    "    counter = 0\n",
    "    while counter < 2:\n",
    "        last_digit = number % 10\n",
    "        number = number // 10\n",
    "        if last_digit > 4:\n",
    "            count += 1\n",
    "            break\n",
    "        count += 1\n",
    "        counter += 1\n",
    "print(count)"
   ]
  },
  {
   "cell_type": "code",
   "execution_count": null,
   "id": "4d2872d4",
   "metadata": {},
   "outputs": [],
   "source": []
  },
  {
   "cell_type": "code",
   "execution_count": null,
   "id": "d9cc95a9",
   "metadata": {},
   "outputs": [],
   "source": []
  },
  {
   "cell_type": "code",
   "execution_count": null,
   "id": "e8517f9e",
   "metadata": {},
   "outputs": [],
   "source": []
  },
  {
   "cell_type": "code",
   "execution_count": null,
   "id": "4087019b",
   "metadata": {},
   "outputs": [],
   "source": []
  },
  {
   "cell_type": "code",
   "execution_count": null,
   "id": "81c491dc",
   "metadata": {},
   "outputs": [],
   "source": []
  },
  {
   "cell_type": "code",
   "execution_count": null,
   "id": "f73b8bd4",
   "metadata": {},
   "outputs": [],
   "source": []
  },
  {
   "cell_type": "code",
   "execution_count": null,
   "id": "35a50199",
   "metadata": {},
   "outputs": [],
   "source": []
  },
  {
   "cell_type": "code",
   "execution_count": null,
   "id": "8d0b639e",
   "metadata": {},
   "outputs": [],
   "source": []
  },
  {
   "cell_type": "code",
   "execution_count": null,
   "id": "69af3bc3",
   "metadata": {},
   "outputs": [],
   "source": []
  },
  {
   "cell_type": "code",
   "execution_count": null,
   "id": "b0429fef",
   "metadata": {},
   "outputs": [],
   "source": []
  },
  {
   "cell_type": "code",
   "execution_count": null,
   "id": "c6f405d7",
   "metadata": {},
   "outputs": [],
   "source": []
  },
  {
   "cell_type": "code",
   "execution_count": null,
   "id": "4a6a932c",
   "metadata": {},
   "outputs": [],
   "source": []
  },
  {
   "cell_type": "code",
   "execution_count": null,
   "id": "e2e5c4f5",
   "metadata": {},
   "outputs": [],
   "source": []
  },
  {
   "cell_type": "code",
   "execution_count": null,
   "id": "8775c7c2",
   "metadata": {},
   "outputs": [],
   "source": []
  },
  {
   "cell_type": "code",
   "execution_count": null,
   "id": "c9c62f75",
   "metadata": {},
   "outputs": [],
   "source": []
  },
  {
   "cell_type": "code",
   "execution_count": null,
   "id": "07ba1ac7",
   "metadata": {},
   "outputs": [],
   "source": []
  },
  {
   "cell_type": "code",
   "execution_count": null,
   "id": "4a6fdb90",
   "metadata": {},
   "outputs": [],
   "source": []
  },
  {
   "cell_type": "code",
   "execution_count": null,
   "id": "5c6a5c98",
   "metadata": {},
   "outputs": [],
   "source": []
  },
  {
   "cell_type": "code",
   "execution_count": null,
   "id": "ce6efd7b",
   "metadata": {},
   "outputs": [],
   "source": []
  },
  {
   "cell_type": "code",
   "execution_count": null,
   "id": "e3c35fca",
   "metadata": {},
   "outputs": [],
   "source": []
  },
  {
   "cell_type": "code",
   "execution_count": null,
   "id": "5c93b5f8",
   "metadata": {},
   "outputs": [],
   "source": []
  },
  {
   "cell_type": "code",
   "execution_count": 33,
   "id": "73f16468",
   "metadata": {},
   "outputs": [],
   "source": [
    "data=pd.read_excel(\"C:\\\\Users\\\\Mind-Graph\\\\Downloads\\Sample - Superstore.xlsx\")"
   ]
  },
  {
   "cell_type": "code",
   "execution_count": 37,
   "id": "22f66391",
   "metadata": {},
   "outputs": [
    {
     "data": {
      "text/html": [
       "<div>\n",
       "<style scoped>\n",
       "    .dataframe tbody tr th:only-of-type {\n",
       "        vertical-align: middle;\n",
       "    }\n",
       "\n",
       "    .dataframe tbody tr th {\n",
       "        vertical-align: top;\n",
       "    }\n",
       "\n",
       "    .dataframe thead th {\n",
       "        text-align: right;\n",
       "    }\n",
       "</style>\n",
       "<table border=\"1\" class=\"dataframe\">\n",
       "  <thead>\n",
       "    <tr style=\"text-align: right;\">\n",
       "      <th></th>\n",
       "      <th>Row ID</th>\n",
       "      <th>Order ID</th>\n",
       "      <th>Order Date</th>\n",
       "      <th>Ship Date</th>\n",
       "      <th>Ship Mode</th>\n",
       "      <th>Customer ID</th>\n",
       "      <th>Customer Name</th>\n",
       "      <th>Segment</th>\n",
       "      <th>Country</th>\n",
       "      <th>City</th>\n",
       "      <th>...</th>\n",
       "      <th>Postal Code</th>\n",
       "      <th>Region</th>\n",
       "      <th>Product ID</th>\n",
       "      <th>Category</th>\n",
       "      <th>Sub-Category</th>\n",
       "      <th>Product Name</th>\n",
       "      <th>Sales</th>\n",
       "      <th>Quantity</th>\n",
       "      <th>Discount</th>\n",
       "      <th>Profit</th>\n",
       "    </tr>\n",
       "  </thead>\n",
       "  <tbody>\n",
       "    <tr>\n",
       "      <th>0</th>\n",
       "      <td>1</td>\n",
       "      <td>CA-2016-152156</td>\n",
       "      <td>11/8/2016</td>\n",
       "      <td>11/11/2016</td>\n",
       "      <td>Second Class</td>\n",
       "      <td>CG-12520</td>\n",
       "      <td>Claire Gute</td>\n",
       "      <td>Consumer</td>\n",
       "      <td>United States</td>\n",
       "      <td>Henderson</td>\n",
       "      <td>...</td>\n",
       "      <td>42420</td>\n",
       "      <td>South</td>\n",
       "      <td>FUR-BO-10001798</td>\n",
       "      <td>Furniture</td>\n",
       "      <td>Bookcases</td>\n",
       "      <td>Bush Somerset Collection Bookcase</td>\n",
       "      <td>261.9600</td>\n",
       "      <td>2</td>\n",
       "      <td>0.00</td>\n",
       "      <td>41.9136</td>\n",
       "    </tr>\n",
       "    <tr>\n",
       "      <th>1</th>\n",
       "      <td>2</td>\n",
       "      <td>CA-2016-152156</td>\n",
       "      <td>11/8/2016</td>\n",
       "      <td>11/11/2016</td>\n",
       "      <td>Second Class</td>\n",
       "      <td>CG-12520</td>\n",
       "      <td>Claire Gute</td>\n",
       "      <td>Consumer</td>\n",
       "      <td>United States</td>\n",
       "      <td>Henderson</td>\n",
       "      <td>...</td>\n",
       "      <td>42420</td>\n",
       "      <td>South</td>\n",
       "      <td>FUR-CH-10000454</td>\n",
       "      <td>Furniture</td>\n",
       "      <td>Chairs</td>\n",
       "      <td>Hon Deluxe Fabric Upholstered Stacking Chairs,...</td>\n",
       "      <td>731.9400</td>\n",
       "      <td>3</td>\n",
       "      <td>0.00</td>\n",
       "      <td>219.5820</td>\n",
       "    </tr>\n",
       "    <tr>\n",
       "      <th>2</th>\n",
       "      <td>3</td>\n",
       "      <td>CA-2016-138688</td>\n",
       "      <td>6/12/2016</td>\n",
       "      <td>6/16/2016</td>\n",
       "      <td>Second Class</td>\n",
       "      <td>DV-13045</td>\n",
       "      <td>Darrin Van Huff</td>\n",
       "      <td>Corporate</td>\n",
       "      <td>United States</td>\n",
       "      <td>Los Angeles</td>\n",
       "      <td>...</td>\n",
       "      <td>90036</td>\n",
       "      <td>West</td>\n",
       "      <td>OFF-LA-10000240</td>\n",
       "      <td>Office Supplies</td>\n",
       "      <td>Labels</td>\n",
       "      <td>Self-Adhesive Address Labels for Typewriters b...</td>\n",
       "      <td>14.6200</td>\n",
       "      <td>2</td>\n",
       "      <td>0.00</td>\n",
       "      <td>6.8714</td>\n",
       "    </tr>\n",
       "    <tr>\n",
       "      <th>3</th>\n",
       "      <td>4</td>\n",
       "      <td>US-2015-108966</td>\n",
       "      <td>10/11/2015</td>\n",
       "      <td>10/18/2015</td>\n",
       "      <td>Standard Class</td>\n",
       "      <td>SO-20335</td>\n",
       "      <td>Sean O'Donnell</td>\n",
       "      <td>Consumer</td>\n",
       "      <td>United States</td>\n",
       "      <td>Fort Lauderdale</td>\n",
       "      <td>...</td>\n",
       "      <td>33311</td>\n",
       "      <td>South</td>\n",
       "      <td>FUR-TA-10000577</td>\n",
       "      <td>Furniture</td>\n",
       "      <td>Tables</td>\n",
       "      <td>Bretford CR4500 Series Slim Rectangular Table</td>\n",
       "      <td>957.5775</td>\n",
       "      <td>5</td>\n",
       "      <td>0.45</td>\n",
       "      <td>-383.0310</td>\n",
       "    </tr>\n",
       "    <tr>\n",
       "      <th>4</th>\n",
       "      <td>5</td>\n",
       "      <td>US-2015-108966</td>\n",
       "      <td>10/11/2015</td>\n",
       "      <td>10/18/2015</td>\n",
       "      <td>Standard Class</td>\n",
       "      <td>SO-20335</td>\n",
       "      <td>Sean O'Donnell</td>\n",
       "      <td>Consumer</td>\n",
       "      <td>United States</td>\n",
       "      <td>Fort Lauderdale</td>\n",
       "      <td>...</td>\n",
       "      <td>33311</td>\n",
       "      <td>South</td>\n",
       "      <td>OFF-ST-10000760</td>\n",
       "      <td>Office Supplies</td>\n",
       "      <td>Storage</td>\n",
       "      <td>Eldon Fold 'N Roll Cart System</td>\n",
       "      <td>22.3680</td>\n",
       "      <td>2</td>\n",
       "      <td>0.20</td>\n",
       "      <td>2.5164</td>\n",
       "    </tr>\n",
       "    <tr>\n",
       "      <th>...</th>\n",
       "      <td>...</td>\n",
       "      <td>...</td>\n",
       "      <td>...</td>\n",
       "      <td>...</td>\n",
       "      <td>...</td>\n",
       "      <td>...</td>\n",
       "      <td>...</td>\n",
       "      <td>...</td>\n",
       "      <td>...</td>\n",
       "      <td>...</td>\n",
       "      <td>...</td>\n",
       "      <td>...</td>\n",
       "      <td>...</td>\n",
       "      <td>...</td>\n",
       "      <td>...</td>\n",
       "      <td>...</td>\n",
       "      <td>...</td>\n",
       "      <td>...</td>\n",
       "      <td>...</td>\n",
       "      <td>...</td>\n",
       "      <td>...</td>\n",
       "    </tr>\n",
       "    <tr>\n",
       "      <th>9989</th>\n",
       "      <td>9990</td>\n",
       "      <td>CA-2014-110422</td>\n",
       "      <td>1/21/2014</td>\n",
       "      <td>1/23/2014</td>\n",
       "      <td>Second Class</td>\n",
       "      <td>TB-21400</td>\n",
       "      <td>Tom Boeckenhauer</td>\n",
       "      <td>Consumer</td>\n",
       "      <td>United States</td>\n",
       "      <td>Miami</td>\n",
       "      <td>...</td>\n",
       "      <td>33180</td>\n",
       "      <td>South</td>\n",
       "      <td>FUR-FU-10001889</td>\n",
       "      <td>Furniture</td>\n",
       "      <td>Furnishings</td>\n",
       "      <td>Ultra Door Pull Handle</td>\n",
       "      <td>25.2480</td>\n",
       "      <td>3</td>\n",
       "      <td>0.20</td>\n",
       "      <td>4.1028</td>\n",
       "    </tr>\n",
       "    <tr>\n",
       "      <th>9990</th>\n",
       "      <td>9991</td>\n",
       "      <td>CA-2017-121258</td>\n",
       "      <td>2/26/2017</td>\n",
       "      <td>3/3/2017</td>\n",
       "      <td>Standard Class</td>\n",
       "      <td>DB-13060</td>\n",
       "      <td>Dave Brooks</td>\n",
       "      <td>Consumer</td>\n",
       "      <td>United States</td>\n",
       "      <td>Costa Mesa</td>\n",
       "      <td>...</td>\n",
       "      <td>92627</td>\n",
       "      <td>West</td>\n",
       "      <td>FUR-FU-10000747</td>\n",
       "      <td>Furniture</td>\n",
       "      <td>Furnishings</td>\n",
       "      <td>Tenex B1-RE Series Chair Mats for Low Pile Car...</td>\n",
       "      <td>91.9600</td>\n",
       "      <td>2</td>\n",
       "      <td>0.00</td>\n",
       "      <td>15.6332</td>\n",
       "    </tr>\n",
       "    <tr>\n",
       "      <th>9991</th>\n",
       "      <td>9992</td>\n",
       "      <td>CA-2017-121258</td>\n",
       "      <td>2/26/2017</td>\n",
       "      <td>3/3/2017</td>\n",
       "      <td>Standard Class</td>\n",
       "      <td>DB-13060</td>\n",
       "      <td>Dave Brooks</td>\n",
       "      <td>Consumer</td>\n",
       "      <td>United States</td>\n",
       "      <td>Costa Mesa</td>\n",
       "      <td>...</td>\n",
       "      <td>92627</td>\n",
       "      <td>West</td>\n",
       "      <td>TEC-PH-10003645</td>\n",
       "      <td>Technology</td>\n",
       "      <td>Phones</td>\n",
       "      <td>Aastra 57i VoIP phone</td>\n",
       "      <td>258.5760</td>\n",
       "      <td>2</td>\n",
       "      <td>0.20</td>\n",
       "      <td>19.3932</td>\n",
       "    </tr>\n",
       "    <tr>\n",
       "      <th>9992</th>\n",
       "      <td>9993</td>\n",
       "      <td>CA-2017-121258</td>\n",
       "      <td>2/26/2017</td>\n",
       "      <td>3/3/2017</td>\n",
       "      <td>Standard Class</td>\n",
       "      <td>DB-13060</td>\n",
       "      <td>Dave Brooks</td>\n",
       "      <td>Consumer</td>\n",
       "      <td>United States</td>\n",
       "      <td>Costa Mesa</td>\n",
       "      <td>...</td>\n",
       "      <td>92627</td>\n",
       "      <td>West</td>\n",
       "      <td>OFF-PA-10004041</td>\n",
       "      <td>Office Supplies</td>\n",
       "      <td>Paper</td>\n",
       "      <td>It's Hot Message Books with Stickers, 2 3/4\" x 5\"</td>\n",
       "      <td>29.6000</td>\n",
       "      <td>4</td>\n",
       "      <td>0.00</td>\n",
       "      <td>13.3200</td>\n",
       "    </tr>\n",
       "    <tr>\n",
       "      <th>9993</th>\n",
       "      <td>9994</td>\n",
       "      <td>CA-2017-119914</td>\n",
       "      <td>5/4/2017</td>\n",
       "      <td>5/9/2017</td>\n",
       "      <td>Second Class</td>\n",
       "      <td>CC-12220</td>\n",
       "      <td>Chris Cortes</td>\n",
       "      <td>Consumer</td>\n",
       "      <td>United States</td>\n",
       "      <td>Westminster</td>\n",
       "      <td>...</td>\n",
       "      <td>92683</td>\n",
       "      <td>West</td>\n",
       "      <td>OFF-AP-10002684</td>\n",
       "      <td>Office Supplies</td>\n",
       "      <td>Appliances</td>\n",
       "      <td>Acco 7-Outlet Masterpiece Power Center, Wihtou...</td>\n",
       "      <td>243.1600</td>\n",
       "      <td>2</td>\n",
       "      <td>0.00</td>\n",
       "      <td>72.9480</td>\n",
       "    </tr>\n",
       "  </tbody>\n",
       "</table>\n",
       "<p>9994 rows × 21 columns</p>\n",
       "</div>"
      ],
      "text/plain": [
       "      Row ID        Order ID  Order Date   Ship Date       Ship Mode  \\\n",
       "0          1  CA-2016-152156   11/8/2016  11/11/2016    Second Class   \n",
       "1          2  CA-2016-152156   11/8/2016  11/11/2016    Second Class   \n",
       "2          3  CA-2016-138688   6/12/2016   6/16/2016    Second Class   \n",
       "3          4  US-2015-108966  10/11/2015  10/18/2015  Standard Class   \n",
       "4          5  US-2015-108966  10/11/2015  10/18/2015  Standard Class   \n",
       "...      ...             ...         ...         ...             ...   \n",
       "9989    9990  CA-2014-110422   1/21/2014   1/23/2014    Second Class   \n",
       "9990    9991  CA-2017-121258   2/26/2017    3/3/2017  Standard Class   \n",
       "9991    9992  CA-2017-121258   2/26/2017    3/3/2017  Standard Class   \n",
       "9992    9993  CA-2017-121258   2/26/2017    3/3/2017  Standard Class   \n",
       "9993    9994  CA-2017-119914    5/4/2017    5/9/2017    Second Class   \n",
       "\n",
       "     Customer ID     Customer Name    Segment        Country             City  \\\n",
       "0       CG-12520       Claire Gute   Consumer  United States        Henderson   \n",
       "1       CG-12520       Claire Gute   Consumer  United States        Henderson   \n",
       "2       DV-13045   Darrin Van Huff  Corporate  United States      Los Angeles   \n",
       "3       SO-20335    Sean O'Donnell   Consumer  United States  Fort Lauderdale   \n",
       "4       SO-20335    Sean O'Donnell   Consumer  United States  Fort Lauderdale   \n",
       "...          ...               ...        ...            ...              ...   \n",
       "9989    TB-21400  Tom Boeckenhauer   Consumer  United States            Miami   \n",
       "9990    DB-13060       Dave Brooks   Consumer  United States       Costa Mesa   \n",
       "9991    DB-13060       Dave Brooks   Consumer  United States       Costa Mesa   \n",
       "9992    DB-13060       Dave Brooks   Consumer  United States       Costa Mesa   \n",
       "9993    CC-12220      Chris Cortes   Consumer  United States      Westminster   \n",
       "\n",
       "      ... Postal Code  Region       Product ID         Category Sub-Category  \\\n",
       "0     ...       42420   South  FUR-BO-10001798        Furniture    Bookcases   \n",
       "1     ...       42420   South  FUR-CH-10000454        Furniture       Chairs   \n",
       "2     ...       90036    West  OFF-LA-10000240  Office Supplies       Labels   \n",
       "3     ...       33311   South  FUR-TA-10000577        Furniture       Tables   \n",
       "4     ...       33311   South  OFF-ST-10000760  Office Supplies      Storage   \n",
       "...   ...         ...     ...              ...              ...          ...   \n",
       "9989  ...       33180   South  FUR-FU-10001889        Furniture  Furnishings   \n",
       "9990  ...       92627    West  FUR-FU-10000747        Furniture  Furnishings   \n",
       "9991  ...       92627    West  TEC-PH-10003645       Technology       Phones   \n",
       "9992  ...       92627    West  OFF-PA-10004041  Office Supplies        Paper   \n",
       "9993  ...       92683    West  OFF-AP-10002684  Office Supplies   Appliances   \n",
       "\n",
       "                                           Product Name     Sales  Quantity  \\\n",
       "0                     Bush Somerset Collection Bookcase  261.9600         2   \n",
       "1     Hon Deluxe Fabric Upholstered Stacking Chairs,...  731.9400         3   \n",
       "2     Self-Adhesive Address Labels for Typewriters b...   14.6200         2   \n",
       "3         Bretford CR4500 Series Slim Rectangular Table  957.5775         5   \n",
       "4                        Eldon Fold 'N Roll Cart System   22.3680         2   \n",
       "...                                                 ...       ...       ...   \n",
       "9989                             Ultra Door Pull Handle   25.2480         3   \n",
       "9990  Tenex B1-RE Series Chair Mats for Low Pile Car...   91.9600         2   \n",
       "9991                              Aastra 57i VoIP phone  258.5760         2   \n",
       "9992  It's Hot Message Books with Stickers, 2 3/4\" x 5\"   29.6000         4   \n",
       "9993  Acco 7-Outlet Masterpiece Power Center, Wihtou...  243.1600         2   \n",
       "\n",
       "      Discount    Profit  \n",
       "0         0.00   41.9136  \n",
       "1         0.00  219.5820  \n",
       "2         0.00    6.8714  \n",
       "3         0.45 -383.0310  \n",
       "4         0.20    2.5164  \n",
       "...        ...       ...  \n",
       "9989      0.20    4.1028  \n",
       "9990      0.00   15.6332  \n",
       "9991      0.20   19.3932  \n",
       "9992      0.00   13.3200  \n",
       "9993      0.00   72.9480  \n",
       "\n",
       "[9994 rows x 21 columns]"
      ]
     },
     "execution_count": 37,
     "metadata": {},
     "output_type": "execute_result"
    }
   ],
   "source": [
    "data"
   ]
  },
  {
   "cell_type": "code",
   "execution_count": 38,
   "id": "125fd259",
   "metadata": {},
   "outputs": [
    {
     "data": {
      "text/plain": [
       "Index(['Row ID', 'Order ID', 'Order Date', 'Ship Date', 'Ship Mode',\n",
       "       'Customer ID', 'Customer Name', 'Segment', 'Country', 'City', 'State',\n",
       "       'Postal Code', 'Region', 'Product ID', 'Category', 'Sub-Category',\n",
       "       'Product Name', 'Sales', 'Quantity', 'Discount', 'Profit'],\n",
       "      dtype='object')"
      ]
     },
     "execution_count": 38,
     "metadata": {},
     "output_type": "execute_result"
    }
   ],
   "source": [
    "data.columns"
   ]
  },
  {
   "cell_type": "markdown",
   "id": "bf800eb5",
   "metadata": {},
   "source": [
    "# 1st test case"
   ]
  },
  {
   "cell_type": "code",
   "execution_count": 40,
   "id": "37702560",
   "metadata": {
    "scrolled": false
   },
   "outputs": [],
   "source": [
    "filtered_df = data[data['Postal Code'] == 42420]"
   ]
  },
  {
   "cell_type": "code",
   "execution_count": 55,
   "id": "d1953e5c",
   "metadata": {},
   "outputs": [
    {
     "data": {
      "text/plain": [
       "48"
      ]
     },
     "execution_count": 55,
     "metadata": {},
     "output_type": "execute_result"
    }
   ],
   "source": [
    "filtered_df['Postal Code'].count()"
   ]
  },
  {
   "cell_type": "code",
   "execution_count": 49,
   "id": "0d82a1c6",
   "metadata": {
    "scrolled": false
   },
   "outputs": [
    {
     "data": {
      "text/html": [
       "<div>\n",
       "<style scoped>\n",
       "    .dataframe tbody tr th:only-of-type {\n",
       "        vertical-align: middle;\n",
       "    }\n",
       "\n",
       "    .dataframe tbody tr th {\n",
       "        vertical-align: top;\n",
       "    }\n",
       "\n",
       "    .dataframe thead th {\n",
       "        text-align: right;\n",
       "    }\n",
       "</style>\n",
       "<table border=\"1\" class=\"dataframe\">\n",
       "  <thead>\n",
       "    <tr style=\"text-align: right;\">\n",
       "      <th></th>\n",
       "      <th>Row ID</th>\n",
       "      <th>Order ID</th>\n",
       "      <th>Order Date</th>\n",
       "      <th>Ship Date</th>\n",
       "      <th>Ship Mode</th>\n",
       "      <th>Customer ID</th>\n",
       "      <th>Customer Name</th>\n",
       "      <th>Segment</th>\n",
       "      <th>Country</th>\n",
       "      <th>City</th>\n",
       "      <th>...</th>\n",
       "      <th>Postal Code</th>\n",
       "      <th>Region</th>\n",
       "      <th>Product ID</th>\n",
       "      <th>Category</th>\n",
       "      <th>Sub-Category</th>\n",
       "      <th>Product Name</th>\n",
       "      <th>Sales</th>\n",
       "      <th>Quantity</th>\n",
       "      <th>Discount</th>\n",
       "      <th>Profit</th>\n",
       "    </tr>\n",
       "  </thead>\n",
       "  <tbody>\n",
       "    <tr>\n",
       "      <th>0</th>\n",
       "      <td>1</td>\n",
       "      <td>CA-2016-152156</td>\n",
       "      <td>11/8/2016</td>\n",
       "      <td>11/11/2016</td>\n",
       "      <td>Second Class</td>\n",
       "      <td>CG-12520</td>\n",
       "      <td>Claire Gute</td>\n",
       "      <td>Consumer</td>\n",
       "      <td>United States</td>\n",
       "      <td>Henderson</td>\n",
       "      <td>...</td>\n",
       "      <td>42420</td>\n",
       "      <td>South</td>\n",
       "      <td>FUR-BO-10001798</td>\n",
       "      <td>Furniture</td>\n",
       "      <td>Bookcases</td>\n",
       "      <td>Bush Somerset Collection Bookcase</td>\n",
       "      <td>261.96</td>\n",
       "      <td>2</td>\n",
       "      <td>0.0</td>\n",
       "      <td>41.9136</td>\n",
       "    </tr>\n",
       "    <tr>\n",
       "      <th>1</th>\n",
       "      <td>2</td>\n",
       "      <td>CA-2016-152156</td>\n",
       "      <td>11/8/2016</td>\n",
       "      <td>11/11/2016</td>\n",
       "      <td>Second Class</td>\n",
       "      <td>CG-12520</td>\n",
       "      <td>Claire Gute</td>\n",
       "      <td>Consumer</td>\n",
       "      <td>United States</td>\n",
       "      <td>Henderson</td>\n",
       "      <td>...</td>\n",
       "      <td>42420</td>\n",
       "      <td>South</td>\n",
       "      <td>FUR-CH-10000454</td>\n",
       "      <td>Furniture</td>\n",
       "      <td>Chairs</td>\n",
       "      <td>Hon Deluxe Fabric Upholstered Stacking Chairs,...</td>\n",
       "      <td>731.94</td>\n",
       "      <td>3</td>\n",
       "      <td>0.0</td>\n",
       "      <td>219.5820</td>\n",
       "    </tr>\n",
       "    <tr>\n",
       "      <th>538</th>\n",
       "      <td>539</td>\n",
       "      <td>CA-2015-134894</td>\n",
       "      <td>12/7/2015</td>\n",
       "      <td>12/11/2015</td>\n",
       "      <td>Standard Class</td>\n",
       "      <td>DK-12985</td>\n",
       "      <td>Darren Koutras</td>\n",
       "      <td>Consumer</td>\n",
       "      <td>United States</td>\n",
       "      <td>Henderson</td>\n",
       "      <td>...</td>\n",
       "      <td>42420</td>\n",
       "      <td>South</td>\n",
       "      <td>OFF-AP-10001271</td>\n",
       "      <td>Office Supplies</td>\n",
       "      <td>Appliances</td>\n",
       "      <td>Eureka The Boss Cordless Rechargeable Stick Vac</td>\n",
       "      <td>152.94</td>\n",
       "      <td>3</td>\n",
       "      <td>0.0</td>\n",
       "      <td>41.2938</td>\n",
       "    </tr>\n",
       "    <tr>\n",
       "      <th>539</th>\n",
       "      <td>540</td>\n",
       "      <td>CA-2015-134894</td>\n",
       "      <td>12/7/2015</td>\n",
       "      <td>12/11/2015</td>\n",
       "      <td>Standard Class</td>\n",
       "      <td>DK-12985</td>\n",
       "      <td>Darren Koutras</td>\n",
       "      <td>Consumer</td>\n",
       "      <td>United States</td>\n",
       "      <td>Henderson</td>\n",
       "      <td>...</td>\n",
       "      <td>42420</td>\n",
       "      <td>South</td>\n",
       "      <td>FUR-CH-10002647</td>\n",
       "      <td>Furniture</td>\n",
       "      <td>Chairs</td>\n",
       "      <td>Situations Contoured Folding Chairs, 4/Set</td>\n",
       "      <td>283.92</td>\n",
       "      <td>4</td>\n",
       "      <td>0.0</td>\n",
       "      <td>70.9800</td>\n",
       "    </tr>\n",
       "    <tr>\n",
       "      <th>996</th>\n",
       "      <td>997</td>\n",
       "      <td>CA-2015-162537</td>\n",
       "      <td>10/28/2015</td>\n",
       "      <td>11/3/2015</td>\n",
       "      <td>Standard Class</td>\n",
       "      <td>RD-19585</td>\n",
       "      <td>Rob Dowd</td>\n",
       "      <td>Consumer</td>\n",
       "      <td>United States</td>\n",
       "      <td>Henderson</td>\n",
       "      <td>...</td>\n",
       "      <td>42420</td>\n",
       "      <td>South</td>\n",
       "      <td>OFF-EN-10003862</td>\n",
       "      <td>Office Supplies</td>\n",
       "      <td>Envelopes</td>\n",
       "      <td>Laser &amp; Ink Jet Business Envelopes</td>\n",
       "      <td>10.67</td>\n",
       "      <td>1</td>\n",
       "      <td>0.0</td>\n",
       "      <td>4.9082</td>\n",
       "    </tr>\n",
       "    <tr>\n",
       "      <th>997</th>\n",
       "      <td>998</td>\n",
       "      <td>CA-2015-162537</td>\n",
       "      <td>10/28/2015</td>\n",
       "      <td>11/3/2015</td>\n",
       "      <td>Standard Class</td>\n",
       "      <td>RD-19585</td>\n",
       "      <td>Rob Dowd</td>\n",
       "      <td>Consumer</td>\n",
       "      <td>United States</td>\n",
       "      <td>Henderson</td>\n",
       "      <td>...</td>\n",
       "      <td>42420</td>\n",
       "      <td>South</td>\n",
       "      <td>OFF-ST-10004258</td>\n",
       "      <td>Office Supplies</td>\n",
       "      <td>Storage</td>\n",
       "      <td>Portable Personal File Box</td>\n",
       "      <td>36.63</td>\n",
       "      <td>3</td>\n",
       "      <td>0.0</td>\n",
       "      <td>9.8901</td>\n",
       "    </tr>\n",
       "    <tr>\n",
       "      <th>998</th>\n",
       "      <td>999</td>\n",
       "      <td>CA-2015-162537</td>\n",
       "      <td>10/28/2015</td>\n",
       "      <td>11/3/2015</td>\n",
       "      <td>Standard Class</td>\n",
       "      <td>RD-19585</td>\n",
       "      <td>Rob Dowd</td>\n",
       "      <td>Consumer</td>\n",
       "      <td>United States</td>\n",
       "      <td>Henderson</td>\n",
       "      <td>...</td>\n",
       "      <td>42420</td>\n",
       "      <td>South</td>\n",
       "      <td>FUR-FU-10002885</td>\n",
       "      <td>Furniture</td>\n",
       "      <td>Furnishings</td>\n",
       "      <td>Magna Visual Magnetic Picture Hangers</td>\n",
       "      <td>24.10</td>\n",
       "      <td>5</td>\n",
       "      <td>0.0</td>\n",
       "      <td>9.1580</td>\n",
       "    </tr>\n",
       "    <tr>\n",
       "      <th>999</th>\n",
       "      <td>1000</td>\n",
       "      <td>CA-2015-162537</td>\n",
       "      <td>10/28/2015</td>\n",
       "      <td>11/3/2015</td>\n",
       "      <td>Standard Class</td>\n",
       "      <td>RD-19585</td>\n",
       "      <td>Rob Dowd</td>\n",
       "      <td>Consumer</td>\n",
       "      <td>United States</td>\n",
       "      <td>Henderson</td>\n",
       "      <td>...</td>\n",
       "      <td>42420</td>\n",
       "      <td>South</td>\n",
       "      <td>FUR-FU-10001918</td>\n",
       "      <td>Furniture</td>\n",
       "      <td>Furnishings</td>\n",
       "      <td>C-Line Cubicle Keepers Polyproplyene Holder Wi...</td>\n",
       "      <td>33.11</td>\n",
       "      <td>7</td>\n",
       "      <td>0.0</td>\n",
       "      <td>12.9129</td>\n",
       "    </tr>\n",
       "    <tr>\n",
       "      <th>2321</th>\n",
       "      <td>2322</td>\n",
       "      <td>CA-2015-109470</td>\n",
       "      <td>12/31/2015</td>\n",
       "      <td>1/3/2016</td>\n",
       "      <td>Second Class</td>\n",
       "      <td>KC-16255</td>\n",
       "      <td>Karen Carlisle</td>\n",
       "      <td>Corporate</td>\n",
       "      <td>United States</td>\n",
       "      <td>Henderson</td>\n",
       "      <td>...</td>\n",
       "      <td>42420</td>\n",
       "      <td>South</td>\n",
       "      <td>OFF-BI-10004492</td>\n",
       "      <td>Office Supplies</td>\n",
       "      <td>Binders</td>\n",
       "      <td>Tuf-Vin Binders</td>\n",
       "      <td>94.74</td>\n",
       "      <td>3</td>\n",
       "      <td>0.0</td>\n",
       "      <td>44.5278</td>\n",
       "    </tr>\n",
       "    <tr>\n",
       "      <th>2322</th>\n",
       "      <td>2323</td>\n",
       "      <td>CA-2015-109470</td>\n",
       "      <td>12/31/2015</td>\n",
       "      <td>1/3/2016</td>\n",
       "      <td>Second Class</td>\n",
       "      <td>KC-16255</td>\n",
       "      <td>Karen Carlisle</td>\n",
       "      <td>Corporate</td>\n",
       "      <td>United States</td>\n",
       "      <td>Henderson</td>\n",
       "      <td>...</td>\n",
       "      <td>42420</td>\n",
       "      <td>South</td>\n",
       "      <td>OFF-BI-10001072</td>\n",
       "      <td>Office Supplies</td>\n",
       "      <td>Binders</td>\n",
       "      <td>GBC Clear Cover, 8-1/2 x 11, unpunched, 25 cov...</td>\n",
       "      <td>60.64</td>\n",
       "      <td>4</td>\n",
       "      <td>0.0</td>\n",
       "      <td>27.8944</td>\n",
       "    </tr>\n",
       "  </tbody>\n",
       "</table>\n",
       "<p>10 rows × 21 columns</p>\n",
       "</div>"
      ],
      "text/plain": [
       "      Row ID        Order ID  Order Date   Ship Date       Ship Mode  \\\n",
       "0          1  CA-2016-152156   11/8/2016  11/11/2016    Second Class   \n",
       "1          2  CA-2016-152156   11/8/2016  11/11/2016    Second Class   \n",
       "538      539  CA-2015-134894   12/7/2015  12/11/2015  Standard Class   \n",
       "539      540  CA-2015-134894   12/7/2015  12/11/2015  Standard Class   \n",
       "996      997  CA-2015-162537  10/28/2015   11/3/2015  Standard Class   \n",
       "997      998  CA-2015-162537  10/28/2015   11/3/2015  Standard Class   \n",
       "998      999  CA-2015-162537  10/28/2015   11/3/2015  Standard Class   \n",
       "999     1000  CA-2015-162537  10/28/2015   11/3/2015  Standard Class   \n",
       "2321    2322  CA-2015-109470  12/31/2015    1/3/2016    Second Class   \n",
       "2322    2323  CA-2015-109470  12/31/2015    1/3/2016    Second Class   \n",
       "\n",
       "     Customer ID   Customer Name    Segment        Country       City  ...  \\\n",
       "0       CG-12520     Claire Gute   Consumer  United States  Henderson  ...   \n",
       "1       CG-12520     Claire Gute   Consumer  United States  Henderson  ...   \n",
       "538     DK-12985  Darren Koutras   Consumer  United States  Henderson  ...   \n",
       "539     DK-12985  Darren Koutras   Consumer  United States  Henderson  ...   \n",
       "996     RD-19585        Rob Dowd   Consumer  United States  Henderson  ...   \n",
       "997     RD-19585        Rob Dowd   Consumer  United States  Henderson  ...   \n",
       "998     RD-19585        Rob Dowd   Consumer  United States  Henderson  ...   \n",
       "999     RD-19585        Rob Dowd   Consumer  United States  Henderson  ...   \n",
       "2321    KC-16255  Karen Carlisle  Corporate  United States  Henderson  ...   \n",
       "2322    KC-16255  Karen Carlisle  Corporate  United States  Henderson  ...   \n",
       "\n",
       "     Postal Code  Region       Product ID         Category Sub-Category  \\\n",
       "0          42420   South  FUR-BO-10001798        Furniture    Bookcases   \n",
       "1          42420   South  FUR-CH-10000454        Furniture       Chairs   \n",
       "538        42420   South  OFF-AP-10001271  Office Supplies   Appliances   \n",
       "539        42420   South  FUR-CH-10002647        Furniture       Chairs   \n",
       "996        42420   South  OFF-EN-10003862  Office Supplies    Envelopes   \n",
       "997        42420   South  OFF-ST-10004258  Office Supplies      Storage   \n",
       "998        42420   South  FUR-FU-10002885        Furniture  Furnishings   \n",
       "999        42420   South  FUR-FU-10001918        Furniture  Furnishings   \n",
       "2321       42420   South  OFF-BI-10004492  Office Supplies      Binders   \n",
       "2322       42420   South  OFF-BI-10001072  Office Supplies      Binders   \n",
       "\n",
       "                                           Product Name   Sales  Quantity  \\\n",
       "0                     Bush Somerset Collection Bookcase  261.96         2   \n",
       "1     Hon Deluxe Fabric Upholstered Stacking Chairs,...  731.94         3   \n",
       "538     Eureka The Boss Cordless Rechargeable Stick Vac  152.94         3   \n",
       "539          Situations Contoured Folding Chairs, 4/Set  283.92         4   \n",
       "996                  Laser & Ink Jet Business Envelopes   10.67         1   \n",
       "997                          Portable Personal File Box   36.63         3   \n",
       "998               Magna Visual Magnetic Picture Hangers   24.10         5   \n",
       "999   C-Line Cubicle Keepers Polyproplyene Holder Wi...   33.11         7   \n",
       "2321                                    Tuf-Vin Binders   94.74         3   \n",
       "2322  GBC Clear Cover, 8-1/2 x 11, unpunched, 25 cov...   60.64         4   \n",
       "\n",
       "      Discount    Profit  \n",
       "0          0.0   41.9136  \n",
       "1          0.0  219.5820  \n",
       "538        0.0   41.2938  \n",
       "539        0.0   70.9800  \n",
       "996        0.0    4.9082  \n",
       "997        0.0    9.8901  \n",
       "998        0.0    9.1580  \n",
       "999        0.0   12.9129  \n",
       "2321       0.0   44.5278  \n",
       "2322       0.0   27.8944  \n",
       "\n",
       "[10 rows x 21 columns]"
      ]
     },
     "execution_count": 49,
     "metadata": {},
     "output_type": "execute_result"
    }
   ],
   "source": [
    "filtered_df.head(10)"
   ]
  },
  {
   "cell_type": "markdown",
   "id": "7ba13b12",
   "metadata": {},
   "source": [
    "# 2nd test case"
   ]
  },
  {
   "cell_type": "code",
   "execution_count": 56,
   "id": "ac7313fa",
   "metadata": {},
   "outputs": [],
   "source": [
    "selected_columns_df = df[['Ship Date', 'Order Date']]"
   ]
  },
  {
   "cell_type": "code",
   "execution_count": 58,
   "id": "4843c7b3",
   "metadata": {},
   "outputs": [
    {
     "data": {
      "text/plain": [
       "9994"
      ]
     },
     "execution_count": 58,
     "metadata": {},
     "output_type": "execute_result"
    }
   ],
   "source": [
    "selected_columns_df['Ship Date'].count()"
   ]
  },
  {
   "cell_type": "code",
   "execution_count": 59,
   "id": "17658983",
   "metadata": {},
   "outputs": [
    {
     "data": {
      "text/plain": [
       "9994"
      ]
     },
     "execution_count": 59,
     "metadata": {},
     "output_type": "execute_result"
    }
   ],
   "source": [
    "selected_columns_df['Order Date'].count()"
   ]
  },
  {
   "cell_type": "code",
   "execution_count": 57,
   "id": "ebaf234a",
   "metadata": {},
   "outputs": [
    {
     "data": {
      "text/html": [
       "<div>\n",
       "<style scoped>\n",
       "    .dataframe tbody tr th:only-of-type {\n",
       "        vertical-align: middle;\n",
       "    }\n",
       "\n",
       "    .dataframe tbody tr th {\n",
       "        vertical-align: top;\n",
       "    }\n",
       "\n",
       "    .dataframe thead th {\n",
       "        text-align: right;\n",
       "    }\n",
       "</style>\n",
       "<table border=\"1\" class=\"dataframe\">\n",
       "  <thead>\n",
       "    <tr style=\"text-align: right;\">\n",
       "      <th></th>\n",
       "      <th>Ship Date</th>\n",
       "      <th>Order Date</th>\n",
       "    </tr>\n",
       "  </thead>\n",
       "  <tbody>\n",
       "    <tr>\n",
       "      <th>0</th>\n",
       "      <td>11/11/2016</td>\n",
       "      <td>11/8/2016</td>\n",
       "    </tr>\n",
       "    <tr>\n",
       "      <th>1</th>\n",
       "      <td>11/11/2016</td>\n",
       "      <td>11/8/2016</td>\n",
       "    </tr>\n",
       "    <tr>\n",
       "      <th>2</th>\n",
       "      <td>6/16/2016</td>\n",
       "      <td>6/12/2016</td>\n",
       "    </tr>\n",
       "    <tr>\n",
       "      <th>3</th>\n",
       "      <td>10/18/2015</td>\n",
       "      <td>10/11/2015</td>\n",
       "    </tr>\n",
       "    <tr>\n",
       "      <th>4</th>\n",
       "      <td>10/18/2015</td>\n",
       "      <td>10/11/2015</td>\n",
       "    </tr>\n",
       "    <tr>\n",
       "      <th>5</th>\n",
       "      <td>6/14/2014</td>\n",
       "      <td>6/9/2014</td>\n",
       "    </tr>\n",
       "    <tr>\n",
       "      <th>6</th>\n",
       "      <td>6/14/2014</td>\n",
       "      <td>6/9/2014</td>\n",
       "    </tr>\n",
       "    <tr>\n",
       "      <th>7</th>\n",
       "      <td>6/14/2014</td>\n",
       "      <td>6/9/2014</td>\n",
       "    </tr>\n",
       "    <tr>\n",
       "      <th>8</th>\n",
       "      <td>6/14/2014</td>\n",
       "      <td>6/9/2014</td>\n",
       "    </tr>\n",
       "    <tr>\n",
       "      <th>9</th>\n",
       "      <td>6/14/2014</td>\n",
       "      <td>6/9/2014</td>\n",
       "    </tr>\n",
       "  </tbody>\n",
       "</table>\n",
       "</div>"
      ],
      "text/plain": [
       "    Ship Date  Order Date\n",
       "0  11/11/2016   11/8/2016\n",
       "1  11/11/2016   11/8/2016\n",
       "2   6/16/2016   6/12/2016\n",
       "3  10/18/2015  10/11/2015\n",
       "4  10/18/2015  10/11/2015\n",
       "5   6/14/2014    6/9/2014\n",
       "6   6/14/2014    6/9/2014\n",
       "7   6/14/2014    6/9/2014\n",
       "8   6/14/2014    6/9/2014\n",
       "9   6/14/2014    6/9/2014"
      ]
     },
     "execution_count": 57,
     "metadata": {},
     "output_type": "execute_result"
    }
   ],
   "source": [
    "selected_columns_df.head(10)"
   ]
  },
  {
   "cell_type": "code",
   "execution_count": 73,
   "id": "e216c1d6",
   "metadata": {},
   "outputs": [],
   "source": [
    "Data=pd.read_excel(\"C:\\\\Users\\\\Mind-Graph\\\\Downloads\\Sample - Superstore.xlsx\")"
   ]
  },
  {
   "cell_type": "code",
   "execution_count": 97,
   "id": "45835bd7",
   "metadata": {},
   "outputs": [
    {
     "data": {
      "text/plain": [
       "48"
      ]
     },
     "execution_count": 97,
     "metadata": {},
     "output_type": "execute_result"
    }
   ],
   "source": [
    "b['Postal Code'].count()"
   ]
  },
  {
   "cell_type": "code",
   "execution_count": 93,
   "id": "0b2d048d",
   "metadata": {},
   "outputs": [
    {
     "data": {
      "text/plain": [
       "9994"
      ]
     },
     "execution_count": 93,
     "metadata": {},
     "output_type": "execute_result"
    }
   ],
   "source": [
    "Data['Postal Code'].count()"
   ]
  },
  {
   "cell_type": "code",
   "execution_count": null,
   "id": "ae4f96c2",
   "metadata": {},
   "outputs": [],
   "source": []
  },
  {
   "cell_type": "code",
   "execution_count": null,
   "id": "edb468cc",
   "metadata": {},
   "outputs": [],
   "source": []
  },
  {
   "cell_type": "code",
   "execution_count": null,
   "id": "e92328ac",
   "metadata": {},
   "outputs": [],
   "source": []
  },
  {
   "cell_type": "code",
   "execution_count": 116,
   "id": "69780344",
   "metadata": {},
   "outputs": [],
   "source": [
    "df = Data['Postal Code'].apply(filtered_df)"
   ]
  },
  {
   "cell_type": "code",
   "execution_count": 122,
   "id": "9fcb45f2",
   "metadata": {},
   "outputs": [
    {
     "data": {
      "text/plain": [
       "42421"
      ]
     },
     "execution_count": 122,
     "metadata": {},
     "output_type": "execute_result"
    }
   ],
   "source": [
    "filtered_df(42421)"
   ]
  },
  {
   "cell_type": "code",
   "execution_count": 135,
   "id": "b5fcd5cf",
   "metadata": {},
   "outputs": [],
   "source": [
    "def my_function(a,b):\n",
    "    c=a+b\n",
    "    return c"
   ]
  },
  {
   "cell_type": "code",
   "execution_count": 136,
   "id": "91b8d7da",
   "metadata": {
    "scrolled": true
   },
   "outputs": [
    {
     "data": {
      "text/plain": [
       "8"
      ]
     },
     "execution_count": 136,
     "metadata": {},
     "output_type": "execute_result"
    }
   ],
   "source": [
    "my_function(a,b)"
   ]
  },
  {
   "cell_type": "code",
   "execution_count": 173,
   "id": "78a20fcb",
   "metadata": {},
   "outputs": [
    {
     "data": {
      "text/plain": [
       "Index(['Row ID', 'Order ID', 'Order Date', 'Ship Date', 'Ship Mode',\n",
       "       'Customer ID', 'Customer Name', 'Segment', 'Country', 'City', 'State',\n",
       "       'Postal Code', 'Region', 'Product ID', 'Category', 'Sub-Category',\n",
       "       'Product Name', 'Sales', 'Quantity', 'Discount', 'Profit'],\n",
       "      dtype='object')"
      ]
     },
     "execution_count": 173,
     "metadata": {},
     "output_type": "execute_result"
    }
   ],
   "source": [
    "Data.columns"
   ]
  },
  {
   "cell_type": "code",
   "execution_count": 239,
   "id": "4f7a7425",
   "metadata": {},
   "outputs": [],
   "source": [
    "def My_function(Data):\n",
    "    return Data\n",
    "def Filtered_df(Data):\n",
    "    Filtered_df = Data[Data['Postal Code'] == 42420]\n",
    "    return Filtered_df\n",
    "def selected_columns_df(Data):\n",
    "    selected_columns_df = Data[['Ship Date', 'Order Date']]\n",
    "    return selected_columns_df\n",
    "def rename_a(Data):\n",
    "    rename_a=Data.rename(columns={'Order no': 'Order num'})\n",
    "    return rename_a\n",
    "def my_function_mean(Data):\n",
    "    my_function_mean=Data['Sales'].mean()\n",
    "    return my_function_mean\n"
   ]
  },
  {
   "cell_type": "code",
   "execution_count": 240,
   "id": "8f79399e",
   "metadata": {},
   "outputs": [],
   "source": [
    "def combined_functions(Data):\n",
    "    # Call each function in the desired order\n",
    "    result1 = Filtered_df(Data)\n",
    "    #result2 = selected_columns_df(result1)\n",
    "    result3 = rename_a(result1)\n",
    "    #result4 = my_function_mean(result3)\n",
    "    \n",
    "    return result3\n"
   ]
  },
  {
   "cell_type": "code",
   "execution_count": 241,
   "id": "a9aeab23",
   "metadata": {
    "scrolled": false
   },
   "outputs": [
    {
     "data": {
      "text/html": [
       "<div>\n",
       "<style scoped>\n",
       "    .dataframe tbody tr th:only-of-type {\n",
       "        vertical-align: middle;\n",
       "    }\n",
       "\n",
       "    .dataframe tbody tr th {\n",
       "        vertical-align: top;\n",
       "    }\n",
       "\n",
       "    .dataframe thead th {\n",
       "        text-align: right;\n",
       "    }\n",
       "</style>\n",
       "<table border=\"1\" class=\"dataframe\">\n",
       "  <thead>\n",
       "    <tr style=\"text-align: right;\">\n",
       "      <th></th>\n",
       "      <th>Row ID</th>\n",
       "      <th>Order num</th>\n",
       "      <th>Order Date</th>\n",
       "      <th>Ship Date</th>\n",
       "      <th>Ship Mode</th>\n",
       "      <th>Customer ID</th>\n",
       "      <th>Customer Name</th>\n",
       "      <th>Segment</th>\n",
       "      <th>Country</th>\n",
       "      <th>City</th>\n",
       "      <th>...</th>\n",
       "      <th>Postal Code</th>\n",
       "      <th>Region</th>\n",
       "      <th>Product ID</th>\n",
       "      <th>Category</th>\n",
       "      <th>Sub-Category</th>\n",
       "      <th>Product Name</th>\n",
       "      <th>Sales</th>\n",
       "      <th>Quantity</th>\n",
       "      <th>Discount</th>\n",
       "      <th>Profit</th>\n",
       "    </tr>\n",
       "  </thead>\n",
       "  <tbody>\n",
       "    <tr>\n",
       "      <th>0</th>\n",
       "      <td>1</td>\n",
       "      <td>CA-2016-152156</td>\n",
       "      <td>11/8/2016</td>\n",
       "      <td>11/11/2016</td>\n",
       "      <td>Second Class</td>\n",
       "      <td>CG-12520</td>\n",
       "      <td>Claire Gute</td>\n",
       "      <td>Consumer</td>\n",
       "      <td>United States</td>\n",
       "      <td>Henderson</td>\n",
       "      <td>...</td>\n",
       "      <td>42420</td>\n",
       "      <td>South</td>\n",
       "      <td>FUR-BO-10001798</td>\n",
       "      <td>Furniture</td>\n",
       "      <td>Bookcases</td>\n",
       "      <td>Bush Somerset Collection Bookcase</td>\n",
       "      <td>261.96</td>\n",
       "      <td>2</td>\n",
       "      <td>0.0</td>\n",
       "      <td>41.9136</td>\n",
       "    </tr>\n",
       "    <tr>\n",
       "      <th>1</th>\n",
       "      <td>2</td>\n",
       "      <td>CA-2016-152156</td>\n",
       "      <td>11/8/2016</td>\n",
       "      <td>11/11/2016</td>\n",
       "      <td>Second Class</td>\n",
       "      <td>CG-12520</td>\n",
       "      <td>Claire Gute</td>\n",
       "      <td>Consumer</td>\n",
       "      <td>United States</td>\n",
       "      <td>Henderson</td>\n",
       "      <td>...</td>\n",
       "      <td>42420</td>\n",
       "      <td>South</td>\n",
       "      <td>FUR-CH-10000454</td>\n",
       "      <td>Furniture</td>\n",
       "      <td>Chairs</td>\n",
       "      <td>Hon Deluxe Fabric Upholstered Stacking Chairs,...</td>\n",
       "      <td>731.94</td>\n",
       "      <td>3</td>\n",
       "      <td>0.0</td>\n",
       "      <td>219.5820</td>\n",
       "    </tr>\n",
       "    <tr>\n",
       "      <th>538</th>\n",
       "      <td>539</td>\n",
       "      <td>CA-2015-134894</td>\n",
       "      <td>12/7/2015</td>\n",
       "      <td>12/11/2015</td>\n",
       "      <td>Standard Class</td>\n",
       "      <td>DK-12985</td>\n",
       "      <td>Darren Koutras</td>\n",
       "      <td>Consumer</td>\n",
       "      <td>United States</td>\n",
       "      <td>Henderson</td>\n",
       "      <td>...</td>\n",
       "      <td>42420</td>\n",
       "      <td>South</td>\n",
       "      <td>OFF-AP-10001271</td>\n",
       "      <td>Office Supplies</td>\n",
       "      <td>Appliances</td>\n",
       "      <td>Eureka The Boss Cordless Rechargeable Stick Vac</td>\n",
       "      <td>152.94</td>\n",
       "      <td>3</td>\n",
       "      <td>0.0</td>\n",
       "      <td>41.2938</td>\n",
       "    </tr>\n",
       "    <tr>\n",
       "      <th>539</th>\n",
       "      <td>540</td>\n",
       "      <td>CA-2015-134894</td>\n",
       "      <td>12/7/2015</td>\n",
       "      <td>12/11/2015</td>\n",
       "      <td>Standard Class</td>\n",
       "      <td>DK-12985</td>\n",
       "      <td>Darren Koutras</td>\n",
       "      <td>Consumer</td>\n",
       "      <td>United States</td>\n",
       "      <td>Henderson</td>\n",
       "      <td>...</td>\n",
       "      <td>42420</td>\n",
       "      <td>South</td>\n",
       "      <td>FUR-CH-10002647</td>\n",
       "      <td>Furniture</td>\n",
       "      <td>Chairs</td>\n",
       "      <td>Situations Contoured Folding Chairs, 4/Set</td>\n",
       "      <td>283.92</td>\n",
       "      <td>4</td>\n",
       "      <td>0.0</td>\n",
       "      <td>70.9800</td>\n",
       "    </tr>\n",
       "    <tr>\n",
       "      <th>996</th>\n",
       "      <td>997</td>\n",
       "      <td>CA-2015-162537</td>\n",
       "      <td>10/28/2015</td>\n",
       "      <td>11/3/2015</td>\n",
       "      <td>Standard Class</td>\n",
       "      <td>RD-19585</td>\n",
       "      <td>Rob Dowd</td>\n",
       "      <td>Consumer</td>\n",
       "      <td>United States</td>\n",
       "      <td>Henderson</td>\n",
       "      <td>...</td>\n",
       "      <td>42420</td>\n",
       "      <td>South</td>\n",
       "      <td>OFF-EN-10003862</td>\n",
       "      <td>Office Supplies</td>\n",
       "      <td>Envelopes</td>\n",
       "      <td>Laser &amp; Ink Jet Business Envelopes</td>\n",
       "      <td>10.67</td>\n",
       "      <td>1</td>\n",
       "      <td>0.0</td>\n",
       "      <td>4.9082</td>\n",
       "    </tr>\n",
       "  </tbody>\n",
       "</table>\n",
       "<p>5 rows × 21 columns</p>\n",
       "</div>"
      ],
      "text/plain": [
       "     Row ID       Order num  Order Date   Ship Date       Ship Mode  \\\n",
       "0         1  CA-2016-152156   11/8/2016  11/11/2016    Second Class   \n",
       "1         2  CA-2016-152156   11/8/2016  11/11/2016    Second Class   \n",
       "538     539  CA-2015-134894   12/7/2015  12/11/2015  Standard Class   \n",
       "539     540  CA-2015-134894   12/7/2015  12/11/2015  Standard Class   \n",
       "996     997  CA-2015-162537  10/28/2015   11/3/2015  Standard Class   \n",
       "\n",
       "    Customer ID   Customer Name   Segment        Country       City  ...  \\\n",
       "0      CG-12520     Claire Gute  Consumer  United States  Henderson  ...   \n",
       "1      CG-12520     Claire Gute  Consumer  United States  Henderson  ...   \n",
       "538    DK-12985  Darren Koutras  Consumer  United States  Henderson  ...   \n",
       "539    DK-12985  Darren Koutras  Consumer  United States  Henderson  ...   \n",
       "996    RD-19585        Rob Dowd  Consumer  United States  Henderson  ...   \n",
       "\n",
       "    Postal Code  Region       Product ID         Category Sub-Category  \\\n",
       "0         42420   South  FUR-BO-10001798        Furniture    Bookcases   \n",
       "1         42420   South  FUR-CH-10000454        Furniture       Chairs   \n",
       "538       42420   South  OFF-AP-10001271  Office Supplies   Appliances   \n",
       "539       42420   South  FUR-CH-10002647        Furniture       Chairs   \n",
       "996       42420   South  OFF-EN-10003862  Office Supplies    Envelopes   \n",
       "\n",
       "                                          Product Name   Sales  Quantity  \\\n",
       "0                    Bush Somerset Collection Bookcase  261.96         2   \n",
       "1    Hon Deluxe Fabric Upholstered Stacking Chairs,...  731.94         3   \n",
       "538    Eureka The Boss Cordless Rechargeable Stick Vac  152.94         3   \n",
       "539         Situations Contoured Folding Chairs, 4/Set  283.92         4   \n",
       "996                 Laser & Ink Jet Business Envelopes   10.67         1   \n",
       "\n",
       "     Discount    Profit  \n",
       "0         0.0   41.9136  \n",
       "1         0.0  219.5820  \n",
       "538       0.0   41.2938  \n",
       "539       0.0   70.9800  \n",
       "996       0.0    4.9082  \n",
       "\n",
       "[5 rows x 21 columns]"
      ]
     },
     "execution_count": 241,
     "metadata": {},
     "output_type": "execute_result"
    }
   ],
   "source": [
    "combined_functions(Data).head(5)"
   ]
  },
  {
   "cell_type": "code",
   "execution_count": null,
   "id": "452456c4",
   "metadata": {},
   "outputs": [],
   "source": []
  },
  {
   "cell_type": "code",
   "execution_count": null,
   "id": "f185c305",
   "metadata": {},
   "outputs": [],
   "source": []
  },
  {
   "cell_type": "code",
   "execution_count": null,
   "id": "7e588e50",
   "metadata": {},
   "outputs": [],
   "source": []
  },
  {
   "cell_type": "code",
   "execution_count": null,
   "id": "9311595c",
   "metadata": {},
   "outputs": [],
   "source": []
  },
  {
   "cell_type": "code",
   "execution_count": null,
   "id": "c6d8e174",
   "metadata": {},
   "outputs": [],
   "source": []
  },
  {
   "cell_type": "code",
   "execution_count": null,
   "id": "5eef57ae",
   "metadata": {},
   "outputs": [],
   "source": []
  },
  {
   "cell_type": "code",
   "execution_count": null,
   "id": "c7ef339d",
   "metadata": {},
   "outputs": [],
   "source": []
  },
  {
   "cell_type": "code",
   "execution_count": null,
   "id": "6a32846b",
   "metadata": {},
   "outputs": [],
   "source": []
  },
  {
   "cell_type": "code",
   "execution_count": null,
   "id": "fa01cebc",
   "metadata": {},
   "outputs": [],
   "source": []
  },
  {
   "cell_type": "code",
   "execution_count": null,
   "id": "2e7cdaf0",
   "metadata": {},
   "outputs": [],
   "source": []
  },
  {
   "cell_type": "code",
   "execution_count": null,
   "id": "90d5e691",
   "metadata": {},
   "outputs": [],
   "source": [
    "my_function_mean(Data)"
   ]
  },
  {
   "cell_type": "code",
   "execution_count": null,
   "id": "3a6bb858",
   "metadata": {},
   "outputs": [],
   "source": [
    "rename_a(Data)"
   ]
  },
  {
   "cell_type": "code",
   "execution_count": null,
   "id": "73071058",
   "metadata": {},
   "outputs": [],
   "source": [
    "My_function(Data)"
   ]
  },
  {
   "cell_type": "code",
   "execution_count": null,
   "id": "ee9c3070",
   "metadata": {},
   "outputs": [],
   "source": [
    "selected_columns_df(Data).head(5)"
   ]
  },
  {
   "cell_type": "code",
   "execution_count": 169,
   "id": "9b62d6ae",
   "metadata": {
    "scrolled": false
   },
   "outputs": [
    {
     "data": {
      "text/html": [
       "<div>\n",
       "<style scoped>\n",
       "    .dataframe tbody tr th:only-of-type {\n",
       "        vertical-align: middle;\n",
       "    }\n",
       "\n",
       "    .dataframe tbody tr th {\n",
       "        vertical-align: top;\n",
       "    }\n",
       "\n",
       "    .dataframe thead th {\n",
       "        text-align: right;\n",
       "    }\n",
       "</style>\n",
       "<table border=\"1\" class=\"dataframe\">\n",
       "  <thead>\n",
       "    <tr style=\"text-align: right;\">\n",
       "      <th></th>\n",
       "      <th>Row ID</th>\n",
       "      <th>Order ID</th>\n",
       "      <th>Order Date</th>\n",
       "      <th>Ship Date</th>\n",
       "      <th>Ship Mode</th>\n",
       "      <th>Customer ID</th>\n",
       "      <th>Customer Name</th>\n",
       "      <th>Segment</th>\n",
       "      <th>Country</th>\n",
       "      <th>City</th>\n",
       "      <th>...</th>\n",
       "      <th>Postal Code</th>\n",
       "      <th>Region</th>\n",
       "      <th>Product ID</th>\n",
       "      <th>Category</th>\n",
       "      <th>Sub-Category</th>\n",
       "      <th>Product Name</th>\n",
       "      <th>Sales</th>\n",
       "      <th>Quantity</th>\n",
       "      <th>Discount</th>\n",
       "      <th>Profit</th>\n",
       "    </tr>\n",
       "  </thead>\n",
       "  <tbody>\n",
       "    <tr>\n",
       "      <th>0</th>\n",
       "      <td>1</td>\n",
       "      <td>CA-2016-152156</td>\n",
       "      <td>11/8/2016</td>\n",
       "      <td>11/11/2016</td>\n",
       "      <td>Second Class</td>\n",
       "      <td>CG-12520</td>\n",
       "      <td>Claire Gute</td>\n",
       "      <td>Consumer</td>\n",
       "      <td>United States</td>\n",
       "      <td>Henderson</td>\n",
       "      <td>...</td>\n",
       "      <td>42420</td>\n",
       "      <td>South</td>\n",
       "      <td>FUR-BO-10001798</td>\n",
       "      <td>Furniture</td>\n",
       "      <td>Bookcases</td>\n",
       "      <td>Bush Somerset Collection Bookcase</td>\n",
       "      <td>261.96</td>\n",
       "      <td>2</td>\n",
       "      <td>0.0</td>\n",
       "      <td>41.9136</td>\n",
       "    </tr>\n",
       "    <tr>\n",
       "      <th>1</th>\n",
       "      <td>2</td>\n",
       "      <td>CA-2016-152156</td>\n",
       "      <td>11/8/2016</td>\n",
       "      <td>11/11/2016</td>\n",
       "      <td>Second Class</td>\n",
       "      <td>CG-12520</td>\n",
       "      <td>Claire Gute</td>\n",
       "      <td>Consumer</td>\n",
       "      <td>United States</td>\n",
       "      <td>Henderson</td>\n",
       "      <td>...</td>\n",
       "      <td>42420</td>\n",
       "      <td>South</td>\n",
       "      <td>FUR-CH-10000454</td>\n",
       "      <td>Furniture</td>\n",
       "      <td>Chairs</td>\n",
       "      <td>Hon Deluxe Fabric Upholstered Stacking Chairs,...</td>\n",
       "      <td>731.94</td>\n",
       "      <td>3</td>\n",
       "      <td>0.0</td>\n",
       "      <td>219.5820</td>\n",
       "    </tr>\n",
       "    <tr>\n",
       "      <th>538</th>\n",
       "      <td>539</td>\n",
       "      <td>CA-2015-134894</td>\n",
       "      <td>12/7/2015</td>\n",
       "      <td>12/11/2015</td>\n",
       "      <td>Standard Class</td>\n",
       "      <td>DK-12985</td>\n",
       "      <td>Darren Koutras</td>\n",
       "      <td>Consumer</td>\n",
       "      <td>United States</td>\n",
       "      <td>Henderson</td>\n",
       "      <td>...</td>\n",
       "      <td>42420</td>\n",
       "      <td>South</td>\n",
       "      <td>OFF-AP-10001271</td>\n",
       "      <td>Office Supplies</td>\n",
       "      <td>Appliances</td>\n",
       "      <td>Eureka The Boss Cordless Rechargeable Stick Vac</td>\n",
       "      <td>152.94</td>\n",
       "      <td>3</td>\n",
       "      <td>0.0</td>\n",
       "      <td>41.2938</td>\n",
       "    </tr>\n",
       "    <tr>\n",
       "      <th>539</th>\n",
       "      <td>540</td>\n",
       "      <td>CA-2015-134894</td>\n",
       "      <td>12/7/2015</td>\n",
       "      <td>12/11/2015</td>\n",
       "      <td>Standard Class</td>\n",
       "      <td>DK-12985</td>\n",
       "      <td>Darren Koutras</td>\n",
       "      <td>Consumer</td>\n",
       "      <td>United States</td>\n",
       "      <td>Henderson</td>\n",
       "      <td>...</td>\n",
       "      <td>42420</td>\n",
       "      <td>South</td>\n",
       "      <td>FUR-CH-10002647</td>\n",
       "      <td>Furniture</td>\n",
       "      <td>Chairs</td>\n",
       "      <td>Situations Contoured Folding Chairs, 4/Set</td>\n",
       "      <td>283.92</td>\n",
       "      <td>4</td>\n",
       "      <td>0.0</td>\n",
       "      <td>70.9800</td>\n",
       "    </tr>\n",
       "    <tr>\n",
       "      <th>996</th>\n",
       "      <td>997</td>\n",
       "      <td>CA-2015-162537</td>\n",
       "      <td>10/28/2015</td>\n",
       "      <td>11/3/2015</td>\n",
       "      <td>Standard Class</td>\n",
       "      <td>RD-19585</td>\n",
       "      <td>Rob Dowd</td>\n",
       "      <td>Consumer</td>\n",
       "      <td>United States</td>\n",
       "      <td>Henderson</td>\n",
       "      <td>...</td>\n",
       "      <td>42420</td>\n",
       "      <td>South</td>\n",
       "      <td>OFF-EN-10003862</td>\n",
       "      <td>Office Supplies</td>\n",
       "      <td>Envelopes</td>\n",
       "      <td>Laser &amp; Ink Jet Business Envelopes</td>\n",
       "      <td>10.67</td>\n",
       "      <td>1</td>\n",
       "      <td>0.0</td>\n",
       "      <td>4.9082</td>\n",
       "    </tr>\n",
       "  </tbody>\n",
       "</table>\n",
       "<p>5 rows × 21 columns</p>\n",
       "</div>"
      ],
      "text/plain": [
       "     Row ID        Order ID  Order Date   Ship Date       Ship Mode  \\\n",
       "0         1  CA-2016-152156   11/8/2016  11/11/2016    Second Class   \n",
       "1         2  CA-2016-152156   11/8/2016  11/11/2016    Second Class   \n",
       "538     539  CA-2015-134894   12/7/2015  12/11/2015  Standard Class   \n",
       "539     540  CA-2015-134894   12/7/2015  12/11/2015  Standard Class   \n",
       "996     997  CA-2015-162537  10/28/2015   11/3/2015  Standard Class   \n",
       "\n",
       "    Customer ID   Customer Name   Segment        Country       City  ...  \\\n",
       "0      CG-12520     Claire Gute  Consumer  United States  Henderson  ...   \n",
       "1      CG-12520     Claire Gute  Consumer  United States  Henderson  ...   \n",
       "538    DK-12985  Darren Koutras  Consumer  United States  Henderson  ...   \n",
       "539    DK-12985  Darren Koutras  Consumer  United States  Henderson  ...   \n",
       "996    RD-19585        Rob Dowd  Consumer  United States  Henderson  ...   \n",
       "\n",
       "    Postal Code  Region       Product ID         Category Sub-Category  \\\n",
       "0         42420   South  FUR-BO-10001798        Furniture    Bookcases   \n",
       "1         42420   South  FUR-CH-10000454        Furniture       Chairs   \n",
       "538       42420   South  OFF-AP-10001271  Office Supplies   Appliances   \n",
       "539       42420   South  FUR-CH-10002647        Furniture       Chairs   \n",
       "996       42420   South  OFF-EN-10003862  Office Supplies    Envelopes   \n",
       "\n",
       "                                          Product Name   Sales  Quantity  \\\n",
       "0                    Bush Somerset Collection Bookcase  261.96         2   \n",
       "1    Hon Deluxe Fabric Upholstered Stacking Chairs,...  731.94         3   \n",
       "538    Eureka The Boss Cordless Rechargeable Stick Vac  152.94         3   \n",
       "539         Situations Contoured Folding Chairs, 4/Set  283.92         4   \n",
       "996                 Laser & Ink Jet Business Envelopes   10.67         1   \n",
       "\n",
       "     Discount    Profit  \n",
       "0         0.0   41.9136  \n",
       "1         0.0  219.5820  \n",
       "538       0.0   41.2938  \n",
       "539       0.0   70.9800  \n",
       "996       0.0    4.9082  \n",
       "\n",
       "[5 rows x 21 columns]"
      ]
     },
     "execution_count": 169,
     "metadata": {},
     "output_type": "execute_result"
    }
   ],
   "source": [
    "Filtered_df(Data).head(5)"
   ]
  },
  {
   "cell_type": "code",
   "execution_count": null,
   "id": "a54797ca",
   "metadata": {},
   "outputs": [],
   "source": []
  },
  {
   "cell_type": "code",
   "execution_count": null,
   "id": "8c5bf4e7",
   "metadata": {},
   "outputs": [],
   "source": []
  },
  {
   "cell_type": "code",
   "execution_count": null,
   "id": "deded0ad",
   "metadata": {},
   "outputs": [],
   "source": []
  },
  {
   "cell_type": "code",
   "execution_count": null,
   "id": "9cff12ab",
   "metadata": {},
   "outputs": [],
   "source": []
  },
  {
   "cell_type": "code",
   "execution_count": 151,
   "id": "27811a4f",
   "metadata": {},
   "outputs": [
    {
     "name": "stdout",
     "output_type": "stream",
     "text": [
      "   Name  Age  Postal Code\n",
      "0  John   30        42420\n"
     ]
    }
   ],
   "source": [
    "import pandas as pd\n",
    "\n",
    "# Sample DataFrame\n",
    "data = {\n",
    "    'Name': ['John', 'Alice', 'Bob'],\n",
    "    'Age': [30, 25, 28],\n",
    "    'Postal Code': [42420, 12345, 67890]\n",
    "}\n",
    "\n",
    "df = pd.DataFrame(data)\n",
    "\n",
    "# Define a function to filter the DataFrame based on a condition\n",
    "def filtered_df(data_frame):\n",
    "    filtered_data = data_frame[data_frame['Postal Code'] == 42420]\n",
    "    return filtered_data\n",
    "\n",
    "# Call the function to filter the DataFrame\n",
    "filtered_result = filtered_df(df)\n",
    "\n",
    "# Display the filtered DataFrame\n",
    "print(filtered_result)\n",
    "\n"
   ]
  },
  {
   "cell_type": "code",
   "execution_count": null,
   "id": "ff952877",
   "metadata": {},
   "outputs": [],
   "source": []
  }
 ],
 "metadata": {
  "kernelspec": {
   "display_name": "Python 3 (ipykernel)",
   "language": "python",
   "name": "python3"
  },
  "language_info": {
   "codemirror_mode": {
    "name": "ipython",
    "version": 3
   },
   "file_extension": ".py",
   "mimetype": "text/x-python",
   "name": "python",
   "nbconvert_exporter": "python",
   "pygments_lexer": "ipython3",
   "version": "3.9.13"
  }
 },
 "nbformat": 4,
 "nbformat_minor": 5
}
