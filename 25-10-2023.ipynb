{
 "cells": [
  {
   "cell_type": "code",
   "execution_count": 1,
   "id": "8e58027c",
   "metadata": {},
   "outputs": [],
   "source": [
    "a=[1,2,3,4,5,6,7,8,9,10]"
   ]
  },
  {
   "cell_type": "code",
   "execution_count": 4,
   "id": "4aa26fd0",
   "metadata": {},
   "outputs": [
    {
     "name": "stdout",
     "output_type": "stream",
     "text": [
      "[2, 4, 6, 8, 10]\n"
     ]
    }
   ],
   "source": [
    "b=[]\n",
    "for i in a:\n",
    "    if i%2==0:\n",
    "        b.append(i)\n",
    "print(b)        "
   ]
  },
  {
   "cell_type": "code",
   "execution_count": 8,
   "id": "655b39b3",
   "metadata": {},
   "outputs": [
    {
     "name": "stdout",
     "output_type": "stream",
     "text": [
      "*\n"
     ]
    }
   ],
   "source": [
    "a=input()\n",
    "for i in a:\n",
    "    if type(i)==int:\n",
    "        a.add(i)\n",
    "        "
   ]
  },
  {
   "cell_type": "code",
   "execution_count": 22,
   "id": "ded8eb3f",
   "metadata": {},
   "outputs": [
    {
     "name": "stdout",
     "output_type": "stream",
     "text": [
      "Enter the maximum number of * to print at the end: 5\n",
      "0\n",
      "1\n",
      "2\n",
      "3\n",
      "4\n",
      "5\n"
     ]
    }
   ],
   "source": [
    "n = int(input(\"Enter the maximum number of * to print at the end: \"))\n",
    "for i in range(0, n+1):\n",
    "       print(i)\n",
    "#     for j in range(i+1):\n",
    "#         print('*', end = ' ')\n",
    "#     print(' ')"
   ]
  },
  {
   "cell_type": "code",
   "execution_count": 42,
   "id": "77d13fbf",
   "metadata": {},
   "outputs": [
    {
     "name": "stdout",
     "output_type": "stream",
     "text": [
      "enter an integer to print in asterik order 5\n",
      "* * * * *  \n",
      "* * * *  \n",
      "* * *  \n",
      "* *  \n",
      "*  \n",
      " \n",
      "*  \n",
      "* *  \n",
      "* * *  \n",
      "* * * *  \n",
      "* * * * *  \n",
      "* * * * * *  \n"
     ]
    }
   ],
   "source": [
    "a=int(input(\"enter an integer to print in asterik order \"))\n",
    "for i in range (a+1, 0,-1):\n",
    "    for j in range(i-1):\n",
    "        print(\"*\",end=' ')\n",
    "    print(' ')\n",
    "for i in range (0, a+1):\n",
    "    for j in range(i+1):\n",
    "        print(\"*\",end=' ')\n",
    "        \n",
    "    print(' ')\n"
   ]
  },
  {
   "cell_type": "code",
   "execution_count": null,
   "id": "1d1232d5",
   "metadata": {},
   "outputs": [],
   "source": []
  }
 ],
 "metadata": {
  "kernelspec": {
   "display_name": "Python 3 (ipykernel)",
   "language": "python",
   "name": "python3"
  },
  "language_info": {
   "codemirror_mode": {
    "name": "ipython",
    "version": 3
   },
   "file_extension": ".py",
   "mimetype": "text/x-python",
   "name": "python",
   "nbconvert_exporter": "python",
   "pygments_lexer": "ipython3",
   "version": "3.9.13"
  }
 },
 "nbformat": 4,
 "nbformat_minor": 5
}
