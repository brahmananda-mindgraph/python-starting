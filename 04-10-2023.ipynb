{
 "cells": [
  {
   "cell_type": "markdown",
   "id": "2c3a1ebe",
   "metadata": {},
   "source": [
    "# melt()"
   ]
  },
  {
   "cell_type": "code",
   "execution_count": 1,
   "id": "d057ba83",
   "metadata": {},
   "outputs": [
    {
     "name": "stdout",
     "output_type": "stream",
     "text": [
      "   ID     Name        Subject  Score\n",
      "0   1    Alice     Math_Score     90\n",
      "1   2      Bob     Math_Score     85\n",
      "2   3  Charlie     Math_Score     78\n",
      "3   1    Alice  Science_Score     88\n",
      "4   2      Bob  Science_Score     92\n",
      "5   3  Charlie  Science_Score     76\n"
     ]
    }
   ],
   "source": [
    "import pandas as pd\n",
    "\n",
    "data = {\n",
    "    'ID': [1, 2, 3],\n",
    "    'Name': ['Alice', 'Bob', 'Charlie'],\n",
    "    'Math_Score': [90, 85, 78],\n",
    "    'Science_Score': [88, 92, 76]\n",
    "}\n",
    "\n",
    "df = pd.DataFrame(data)\n",
    "melted_df = pd.melt(df, id_vars=['ID', 'Name'], var_name='Subject', value_name='Score')\n",
    "\n",
    "print(melted_df)\n"
   ]
  },
  {
   "cell_type": "markdown",
   "id": "7c64fc39",
   "metadata": {},
   "source": [
    "# Lambda()"
   ]
  },
  {
   "cell_type": "code",
   "execution_count": 2,
   "id": "2f7bb71a",
   "metadata": {},
   "outputs": [
    {
     "name": "stdout",
     "output_type": "stream",
     "text": [
      "[1, 4, 9, 16, 25]\n"
     ]
    }
   ],
   "source": [
    "numbers = [1, 2, 3, 4, 5]\n",
    "squared = list(map(lambda x: x ** 2, numbers))\n",
    "print(squared)"
   ]
  },
  {
   "cell_type": "code",
   "execution_count": 8,
   "id": "8000fcec",
   "metadata": {},
   "outputs": [
    {
     "name": "stdout",
     "output_type": "stream",
     "text": [
      "{1, 4, 9, 16, 25}\n"
     ]
    }
   ],
   "source": [
    "numbers = [1, 2, 3, 4, 5]\n",
    "squared = set(map(lambda x: x ** 2, numbers))\n",
    "print(squared)"
   ]
  },
  {
   "cell_type": "code",
   "execution_count": null,
   "id": "d4de337b",
   "metadata": {},
   "outputs": [],
   "source": []
  }
 ],
 "metadata": {
  "kernelspec": {
   "display_name": "Python 3 (ipykernel)",
   "language": "python",
   "name": "python3"
  },
  "language_info": {
   "codemirror_mode": {
    "name": "ipython",
    "version": 3
   },
   "file_extension": ".py",
   "mimetype": "text/x-python",
   "name": "python",
   "nbconvert_exporter": "python",
   "pygments_lexer": "ipython3",
   "version": "3.9.13"
  }
 },
 "nbformat": 4,
 "nbformat_minor": 5
}
