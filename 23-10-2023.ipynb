{
 "cells": [
  {
   "cell_type": "markdown",
   "id": "56324f9a",
   "metadata": {},
   "source": [
    "# Dictionary"
   ]
  },
  {
   "cell_type": "code",
   "execution_count": 13,
   "id": "23d02e34",
   "metadata": {},
   "outputs": [],
   "source": [
    "d = {'ByteIQ':{'Shubha': {'Emp ID':'E007', 'Profile':'Data Engineering'}, 'Satya':{'Emp ID':'E009', 'Profile':'Data Engineering'}},\n",
    "    'Mindgraph':{'Chaitanya' : {'Emp ID':'MG180298', 'Profile':'Data Engineering'}, 'Saiteja': {'Emp ID':'MG180299', 'Profile':'Data Engineering'}\n",
    " }\n",
    "}"
   ]
  },
  {
   "cell_type": "code",
   "execution_count": 7,
   "id": "ee17592f",
   "metadata": {},
   "outputs": [
    {
     "data": {
      "text/plain": [
       "{'Emp ID': 'E007', 'Profile': 'Data Engineering'}"
      ]
     },
     "execution_count": 7,
     "metadata": {},
     "output_type": "execute_result"
    }
   ],
   "source": [
    "d['ByteIQ']['Shubha']"
   ]
  },
  {
   "cell_type": "code",
   "execution_count": 8,
   "id": "77629162",
   "metadata": {},
   "outputs": [
    {
     "data": {
      "text/plain": [
       "dict_keys(['Shubha', 'Satya'])"
      ]
     },
     "execution_count": 8,
     "metadata": {},
     "output_type": "execute_result"
    }
   ],
   "source": [
    "d['ByteIQ'].keys()"
   ]
  },
  {
   "cell_type": "code",
   "execution_count": 9,
   "id": "30533901",
   "metadata": {},
   "outputs": [
    {
     "data": {
      "text/plain": [
       "dict_values([{'Emp ID': 'E007', 'Profile': 'Data Engineering'}, {'Emp ID': 'E009', 'Profile': 'Data Engineering'}])"
      ]
     },
     "execution_count": 9,
     "metadata": {},
     "output_type": "execute_result"
    }
   ],
   "source": [
    "d['ByteIQ'].values()"
   ]
  },
  {
   "cell_type": "code",
   "execution_count": 10,
   "id": "ad958a60",
   "metadata": {},
   "outputs": [
    {
     "data": {
      "text/plain": [
       "dict_values(['E007', 'Data Engineering'])"
      ]
     },
     "execution_count": 10,
     "metadata": {},
     "output_type": "execute_result"
    }
   ],
   "source": [
    "d['ByteIQ']['Shubha'].values()"
   ]
  },
  {
   "cell_type": "code",
   "execution_count": 16,
   "id": "e17e9a77",
   "metadata": {},
   "outputs": [
    {
     "name": "stdout",
     "output_type": "stream",
     "text": [
      "ByteIQ\n",
      "Mindgraph\n"
     ]
    }
   ],
   "source": [
    "for key in d:\n",
    "    print(key)"
   ]
  },
  {
   "cell_type": "code",
   "execution_count": 20,
   "id": "c7cfabb6",
   "metadata": {},
   "outputs": [
    {
     "name": "stdout",
     "output_type": "stream",
     "text": [
      "{'Shubha': {'Emp ID': 'E007', 'Profile': 'Data Engineering'}, 'Satya': {'Emp ID': 'E009', 'Profile': 'Data Engineering'}}\n",
      "{'Chaitanya': {'Emp ID': 'MG180298', 'Profile': 'Data Engineering'}, 'Saiteja': {'Emp ID': 'MG180299', 'Profile': 'Data Engineering'}}\n"
     ]
    }
   ],
   "source": [
    "for values in d.values():\n",
    "    print(values)"
   ]
  },
  {
   "cell_type": "code",
   "execution_count": 15,
   "id": "0f3cfa74",
   "metadata": {},
   "outputs": [
    {
     "name": "stdout",
     "output_type": "stream",
     "text": [
      "a\n",
      "b\n",
      "c\n"
     ]
    }
   ],
   "source": [
    "# Define a dictionary\n",
    "my_dict = {'a': 1, 'b': 2, 'c': 3}\n",
    "\n",
    "# Iterate over keys\n",
    "for key in my_dict:\n",
    "    print(key)\n"
   ]
  },
  {
   "cell_type": "code",
   "execution_count": 21,
   "id": "bedc7f31",
   "metadata": {},
   "outputs": [
    {
     "name": "stdout",
     "output_type": "stream",
     "text": [
      "ByteIQ {'Shubha': {'Emp ID': 'E007', 'Profile': 'Data Engineering'}, 'Satya': {'Emp ID': 'E009', 'Profile': 'Data Engineering'}}\n",
      "Mindgraph {'Chaitanya': {'Emp ID': 'MG180298', 'Profile': 'Data Engineering'}, 'Saiteja': {'Emp ID': 'MG180299', 'Profile': 'Data Engineering'}}\n"
     ]
    }
   ],
   "source": [
    "for key ,values in d.items():\n",
    "    print(key,values)"
   ]
  },
  {
   "cell_type": "code",
   "execution_count": 23,
   "id": "06c39443",
   "metadata": {},
   "outputs": [
    {
     "name": "stdout",
     "output_type": "stream",
     "text": [
      "{'apple': 3, 'banana': 2, 'cherry': 1}\n"
     ]
    }
   ],
   "source": [
    "word_count = {}\n",
    "words = ['apple', 'banana', 'apple', 'cherry', 'banana', 'apple']\n",
    "\n",
    "for word in words:\n",
    "    if word in word_count:\n",
    "        word_count[word] += 1\n",
    "    else:\n",
    "        word_count[word] = 1\n",
    "\n",
    "print(word_count)"
   ]
  },
  {
   "cell_type": "code",
   "execution_count": 30,
   "id": "3747c85c",
   "metadata": {},
   "outputs": [
    {
     "name": "stdout",
     "output_type": "stream",
     "text": [
      "{'apple': 3, 'banana': 2, 'cherry': 1}\n"
     ]
    }
   ],
   "source": [
    "a={}\n",
    "b = ['apple', 'banana', 'apple', 'cherry', 'banana', 'apple']\n",
    "for i in b:\n",
    "    if i in a:\n",
    "        a[i]+=1\n",
    "    else:\n",
    "        a[i]=1\n",
    "print(a)    \n",
    "    \n"
   ]
  },
  {
   "cell_type": "code",
   "execution_count": 39,
   "id": "12ff2e36",
   "metadata": {},
   "outputs": [
    {
     "name": "stdout",
     "output_type": "stream",
     "text": [
      "{'Alice': 'Not in category', 'Bob': 92, 'Charlie': 'not tested', 'David': 95}\n"
     ]
    }
   ],
   "source": [
    "a = {'Alice': 85, 'Bob': 92, 'Charlie': 78, 'David': 95}\n",
    "for i,j in a.items():\n",
    "    if j>90:\n",
    "        a[i]=j\n",
    "    elif j>84:\n",
    "        a[i]='Not in category'\n",
    "    else:\n",
    "        a[i]='not tested'\n",
    "print(a)        \n"
   ]
  },
  {
   "cell_type": "code",
   "execution_count": null,
   "id": "a1d84a97",
   "metadata": {},
   "outputs": [],
   "source": []
  }
 ],
 "metadata": {
  "kernelspec": {
   "display_name": "Python 3 (ipykernel)",
   "language": "python",
   "name": "python3"
  },
  "language_info": {
   "codemirror_mode": {
    "name": "ipython",
    "version": 3
   },
   "file_extension": ".py",
   "mimetype": "text/x-python",
   "name": "python",
   "nbconvert_exporter": "python",
   "pygments_lexer": "ipython3",
   "version": "3.9.13"
  }
 },
 "nbformat": 4,
 "nbformat_minor": 5
}
