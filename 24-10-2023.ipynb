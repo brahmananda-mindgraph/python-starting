{
 "cells": [
  {
   "cell_type": "code",
   "execution_count": 1,
   "id": "3cd1fabc",
   "metadata": {},
   "outputs": [
    {
     "name": "stdout",
     "output_type": "stream",
     "text": [
      "Hello\n"
     ]
    }
   ],
   "source": [
    "print('Hello')"
   ]
  },
  {
   "cell_type": "code",
   "execution_count": 68,
   "id": "e4eee5ea",
   "metadata": {},
   "outputs": [
    {
     "name": "stdout",
     "output_type": "stream",
     "text": [
      "i'm not in if and not in else Block\n"
     ]
    }
   ],
   "source": [
    " i = 20\n",
    "# if (i < 15):\n",
    "#     print(\"i is smaller than 15\")\n",
    "#     print(\"i'm in if Block\")\n",
    "# else:\n",
    "#     print(\"i is greater than 15\")\n",
    "#     print(\"i'm in else Block\")\n",
    "print(\"i'm not in if and not in else Block\")\n"
   ]
  },
  {
   "cell_type": "code",
   "execution_count": 7,
   "id": "22bfbf46",
   "metadata": {
    "scrolled": true
   },
   "outputs": [
    {
     "data": {
      "text/plain": [
       "1"
      ]
     },
     "execution_count": 7,
     "metadata": {},
     "output_type": "execute_result"
    }
   ],
   "source": [
    "7%2"
   ]
  },
  {
   "cell_type": "code",
   "execution_count": 11,
   "id": "c76cbaca",
   "metadata": {},
   "outputs": [
    {
     "data": {
      "text/plain": [
       "49"
      ]
     },
     "execution_count": 11,
     "metadata": {},
     "output_type": "execute_result"
    }
   ],
   "source": [
    "7**2"
   ]
  },
  {
   "cell_type": "code",
   "execution_count": 12,
   "id": "55ae416c",
   "metadata": {},
   "outputs": [],
   "source": [
    "a=8\n",
    "a+=3"
   ]
  },
  {
   "cell_type": "code",
   "execution_count": 13,
   "id": "eb56bc40",
   "metadata": {},
   "outputs": [
    {
     "data": {
      "text/plain": [
       "11"
      ]
     },
     "execution_count": 13,
     "metadata": {},
     "output_type": "execute_result"
    }
   ],
   "source": [
    "a"
   ]
  },
  {
   "cell_type": "code",
   "execution_count": 22,
   "id": "7ef784a0",
   "metadata": {},
   "outputs": [
    {
     "name": "stdout",
     "output_type": "stream",
     "text": [
      "true\n"
     ]
    }
   ],
   "source": [
    "if (169==169.0):\n",
    "    print('true')\n",
    "else:\n",
    "    print('false')"
   ]
  },
  {
   "cell_type": "code",
   "execution_count": 19,
   "id": "8cb8e23f",
   "metadata": {},
   "outputs": [
    {
     "data": {
      "text/plain": [
       "False"
      ]
     },
     "execution_count": 19,
     "metadata": {},
     "output_type": "execute_result"
    }
   ],
   "source": [
    "169>169.0"
   ]
  },
  {
   "cell_type": "code",
   "execution_count": 23,
   "id": "eb7bede9",
   "metadata": {},
   "outputs": [
    {
     "ename": "TypeError",
     "evalue": "unsupported operand type(s) for +: 'int' and 'str'",
     "output_type": "error",
     "traceback": [
      "\u001b[1;31m---------------------------------------------------------------------------\u001b[0m",
      "\u001b[1;31mTypeError\u001b[0m                                 Traceback (most recent call last)",
      "\u001b[1;32m~\\AppData\\Local\\Temp\\ipykernel_15764\\2396655454.py\u001b[0m in \u001b[0;36m<module>\u001b[1;34m\u001b[0m\n\u001b[1;32m----> 1\u001b[1;33m \u001b[1;36m1\u001b[0m\u001b[1;33m+\u001b[0m\u001b[1;34m'mindgraph'\u001b[0m\u001b[1;33m\u001b[0m\u001b[1;33m\u001b[0m\u001b[0m\n\u001b[0m",
      "\u001b[1;31mTypeError\u001b[0m: unsupported operand type(s) for +: 'int' and 'str'"
     ]
    }
   ],
   "source": [
    "1+'mindgraph'"
   ]
  },
  {
   "cell_type": "code",
   "execution_count": 24,
   "id": "2def0557",
   "metadata": {},
   "outputs": [
    {
     "data": {
      "text/plain": [
       "'1mindgraph'"
      ]
     },
     "execution_count": 24,
     "metadata": {},
     "output_type": "execute_result"
    }
   ],
   "source": [
    "str(1)+'mindgraph'"
   ]
  },
  {
   "cell_type": "code",
   "execution_count": 25,
   "id": "e45f82ba",
   "metadata": {},
   "outputs": [],
   "source": [
    "s = 'mindgraph office'"
   ]
  },
  {
   "cell_type": "code",
   "execution_count": 27,
   "id": "3bcc4853",
   "metadata": {},
   "outputs": [
    {
     "data": {
      "text/plain": [
       "'mindgraph offic'"
      ]
     },
     "execution_count": 27,
     "metadata": {},
     "output_type": "execute_result"
    }
   ],
   "source": [
    "s[0:15]"
   ]
  },
  {
   "cell_type": "code",
   "execution_count": 28,
   "id": "d24c844a",
   "metadata": {},
   "outputs": [
    {
     "data": {
      "text/plain": [
       "'mindgraph office'"
      ]
     },
     "execution_count": 28,
     "metadata": {},
     "output_type": "execute_result"
    }
   ],
   "source": [
    "s[0::]"
   ]
  },
  {
   "cell_type": "code",
   "execution_count": 37,
   "id": "1be785ef",
   "metadata": {},
   "outputs": [
    {
     "data": {
      "text/plain": [
       "'mngahofc'"
      ]
     },
     "execution_count": 37,
     "metadata": {},
     "output_type": "execute_result"
    }
   ],
   "source": [
    "s[0:16:2]"
   ]
  },
  {
   "cell_type": "code",
   "execution_count": 38,
   "id": "96eaab62",
   "metadata": {},
   "outputs": [
    {
     "data": {
      "text/plain": [
       "2"
      ]
     },
     "execution_count": 38,
     "metadata": {},
     "output_type": "execute_result"
    }
   ],
   "source": [
    "True + True"
   ]
  },
  {
   "cell_type": "code",
   "execution_count": 39,
   "id": "898cdcfa",
   "metadata": {},
   "outputs": [
    {
     "data": {
      "text/plain": [
       "int"
      ]
     },
     "execution_count": 39,
     "metadata": {},
     "output_type": "execute_result"
    }
   ],
   "source": [
    "type(True + True)"
   ]
  },
  {
   "cell_type": "code",
   "execution_count": 42,
   "id": "d7abf85b",
   "metadata": {},
   "outputs": [
    {
     "data": {
      "text/plain": [
       "bool"
      ]
     },
     "execution_count": 42,
     "metadata": {},
     "output_type": "execute_result"
    }
   ],
   "source": [
    "type(False)"
   ]
  },
  {
   "cell_type": "code",
   "execution_count": 43,
   "id": "ab1f76d2",
   "metadata": {},
   "outputs": [],
   "source": [
    "x = range(10)"
   ]
  },
  {
   "cell_type": "code",
   "execution_count": 44,
   "id": "95deee26",
   "metadata": {},
   "outputs": [
    {
     "data": {
      "text/plain": [
       "range(0, 10)"
      ]
     },
     "execution_count": 44,
     "metadata": {},
     "output_type": "execute_result"
    }
   ],
   "source": [
    "x"
   ]
  },
  {
   "cell_type": "code",
   "execution_count": 45,
   "id": "16aa890a",
   "metadata": {},
   "outputs": [],
   "source": [
    "x = list(range(10))"
   ]
  },
  {
   "cell_type": "code",
   "execution_count": 46,
   "id": "cd21e86d",
   "metadata": {},
   "outputs": [
    {
     "data": {
      "text/plain": [
       "[0, 1, 2, 3, 4, 5, 6, 7, 8, 9]"
      ]
     },
     "execution_count": 46,
     "metadata": {},
     "output_type": "execute_result"
    }
   ],
   "source": [
    "x"
   ]
  },
  {
   "cell_type": "code",
   "execution_count": 47,
   "id": "1048d5b5",
   "metadata": {},
   "outputs": [],
   "source": [
    "l = [1, 2, 3, \"ByteIQ\", 5, 6, 7,[(\"not a list\", \"tuple\", \"task\")], 8, 10, 5+7j, (4, 5, 8, \"not list\", [8, 12, \"magic\"])]"
   ]
  },
  {
   "cell_type": "code",
   "execution_count": 48,
   "id": "8ddd7861",
   "metadata": {},
   "outputs": [
    {
     "data": {
      "text/plain": [
       "12"
      ]
     },
     "execution_count": 48,
     "metadata": {},
     "output_type": "execute_result"
    }
   ],
   "source": [
    "len(l)"
   ]
  },
  {
   "cell_type": "code",
   "execution_count": 49,
   "id": "68d292ad",
   "metadata": {},
   "outputs": [
    {
     "data": {
      "text/plain": [
       "5"
      ]
     },
     "execution_count": 49,
     "metadata": {},
     "output_type": "execute_result"
    }
   ],
   "source": [
    "l[4]"
   ]
  },
  {
   "cell_type": "code",
   "execution_count": 56,
   "id": "fdb02e61",
   "metadata": {},
   "outputs": [],
   "source": [
    "a=l.pop(9)"
   ]
  },
  {
   "cell_type": "code",
   "execution_count": 57,
   "id": "05c4a378",
   "metadata": {},
   "outputs": [
    {
     "data": {
      "text/plain": [
       "[1,\n",
       " 2,\n",
       " 3,\n",
       " 'ByteIQ',\n",
       " 5,\n",
       " 6,\n",
       " 7,\n",
       " [('not a list', 'tuple', 'task')],\n",
       " 8,\n",
       " (4, 5, 8, 'not list', [8, 12, 'magic'])]"
      ]
     },
     "execution_count": 57,
     "metadata": {},
     "output_type": "execute_result"
    }
   ],
   "source": [
    "l"
   ]
  },
  {
   "cell_type": "code",
   "execution_count": 58,
   "id": "05a26e6e",
   "metadata": {},
   "outputs": [
    {
     "data": {
      "text/plain": [
       "(5+7j)"
      ]
     },
     "execution_count": 58,
     "metadata": {},
     "output_type": "execute_result"
    }
   ],
   "source": [
    "a"
   ]
  },
  {
   "cell_type": "code",
   "execution_count": 59,
   "id": "5c8e871b",
   "metadata": {},
   "outputs": [],
   "source": [
    "l = [1, 2, 3, \"ByteIQ\", 5, 6, 7,[(\"not a list\", \"tuple\", \"task\")], 8, 10, 5+7j, (4, 5, 8, \"not list\", [8, 12, \"magic\"])]"
   ]
  },
  {
   "cell_type": "code",
   "execution_count": 60,
   "id": "380b9b07",
   "metadata": {},
   "outputs": [],
   "source": [
    "a=l.pop(9)"
   ]
  },
  {
   "cell_type": "code",
   "execution_count": 61,
   "id": "f1fcc19e",
   "metadata": {},
   "outputs": [
    {
     "data": {
      "text/plain": [
       "[1,\n",
       " 2,\n",
       " 3,\n",
       " 'ByteIQ',\n",
       " 5,\n",
       " 6,\n",
       " 7,\n",
       " [('not a list', 'tuple', 'task')],\n",
       " 8,\n",
       " (5+7j),\n",
       " (4, 5, 8, 'not list', [8, 12, 'magic'])]"
      ]
     },
     "execution_count": 61,
     "metadata": {},
     "output_type": "execute_result"
    }
   ],
   "source": [
    "l"
   ]
  },
  {
   "cell_type": "code",
   "execution_count": 65,
   "id": "0ea6b534",
   "metadata": {},
   "outputs": [
    {
     "data": {
      "text/plain": [
       "[65,\n",
       " 66,\n",
       " 67,\n",
       " 68,\n",
       " 69,\n",
       " 70,\n",
       " 71,\n",
       " 72,\n",
       " 73,\n",
       " 74,\n",
       " 75,\n",
       " 76,\n",
       " 77,\n",
       " 78,\n",
       " 79,\n",
       " 80,\n",
       " 81,\n",
       " 82,\n",
       " 83,\n",
       " 84,\n",
       " 85,\n",
       " 86,\n",
       " 87,\n",
       " 88,\n",
       " 89,\n",
       " 90]"
      ]
     },
     "execution_count": 65,
     "metadata": {},
     "output_type": "execute_result"
    }
   ],
   "source": [
    "list(range(ord('A'), ord('Z')+1))"
   ]
  },
  {
   "cell_type": "code",
   "execution_count": 69,
   "id": "4616143f",
   "metadata": {},
   "outputs": [],
   "source": [
    "l = [1, 2, 3, 4, 10, 11, 10, 100, 11, 11]"
   ]
  },
  {
   "cell_type": "code",
   "execution_count": 70,
   "id": "892b42ac",
   "metadata": {},
   "outputs": [
    {
     "data": {
      "text/plain": [
       "list"
      ]
     },
     "execution_count": 70,
     "metadata": {},
     "output_type": "execute_result"
    }
   ],
   "source": [
    "type(l)"
   ]
  },
  {
   "cell_type": "code",
   "execution_count": 71,
   "id": "575073a2",
   "metadata": {},
   "outputs": [
    {
     "data": {
      "text/plain": [
       "{1, 2, 3, 4, 10, 11, 100}"
      ]
     },
     "execution_count": 71,
     "metadata": {},
     "output_type": "execute_result"
    }
   ],
   "source": [
    "set(l)"
   ]
  },
  {
   "cell_type": "code",
   "execution_count": 72,
   "id": "7c83e18c",
   "metadata": {},
   "outputs": [
    {
     "data": {
      "text/plain": [
       "{1, 2, 3, 4, 10, 11, 100}"
      ]
     },
     "execution_count": 72,
     "metadata": {},
     "output_type": "execute_result"
    }
   ],
   "source": [
    "set(set(l))"
   ]
  },
  {
   "cell_type": "code",
   "execution_count": 73,
   "id": "3671ff35",
   "metadata": {},
   "outputs": [],
   "source": [
    "a={1, 2, 3, 4, 10, 11, 100}"
   ]
  },
  {
   "cell_type": "code",
   "execution_count": 74,
   "id": "0503f150",
   "metadata": {},
   "outputs": [
    {
     "data": {
      "text/plain": [
       "{1, 2, 3, 4, 10, 11, 100}"
      ]
     },
     "execution_count": 74,
     "metadata": {},
     "output_type": "execute_result"
    }
   ],
   "source": [
    "set(a)"
   ]
  },
  {
   "cell_type": "code",
   "execution_count": 83,
   "id": "9f644898",
   "metadata": {},
   "outputs": [],
   "source": [
    "s={1,2,3,4,5,6,7,7}"
   ]
  },
  {
   "cell_type": "code",
   "execution_count": 84,
   "id": "5fbbb921",
   "metadata": {},
   "outputs": [
    {
     "data": {
      "text/plain": [
       "set"
      ]
     },
     "execution_count": 84,
     "metadata": {},
     "output_type": "execute_result"
    }
   ],
   "source": [
    "type(s)"
   ]
  },
  {
   "cell_type": "code",
   "execution_count": 86,
   "id": "c681ea54",
   "metadata": {
    "scrolled": false
   },
   "outputs": [
    {
     "name": "stdout",
     "output_type": "stream",
     "text": [
      "1\n",
      "{1}\n",
      "2\n",
      "{1, 2}\n",
      "3\n",
      "{1, 2, 3}\n",
      "4\n",
      "{1, 2, 3, 4}\n",
      "5\n",
      "{1, 2, 3, 4, 5}\n",
      "6\n",
      "{1, 2, 3, 4, 5, 6}\n",
      "7\n",
      "{1, 2, 3, 4, 5, 6, 7}\n"
     ]
    }
   ],
   "source": [
    "a = set()\n",
    "for element in s:\n",
    "    if type(element) != list:\n",
    "        print(element) # just for displaying and understanding\n",
    "        a.add(element)\n",
    "        print(a)"
   ]
  },
  {
   "cell_type": "code",
   "execution_count": 87,
   "id": "9f9936b7",
   "metadata": {},
   "outputs": [],
   "source": [
    "ls = [2, 3, \"Mindgraph\", 3, 2, 2, 3, {4, 8, 9}, \"Soumya\", 4.53]   # Output should be [2, 3]"
   ]
  },
  {
   "cell_type": "code",
   "execution_count": 89,
   "id": "b1b4c7fc",
   "metadata": {},
   "outputs": [
    {
     "name": "stdout",
     "output_type": "stream",
     "text": [
      "[2, 3]\n"
     ]
    }
   ],
   "source": [
    "s = set()\n",
    "for element in ls:\n",
    "    if type(element) == int:\n",
    "        s.add(element)\n",
    "l = list(s)\n",
    "print(l)"
   ]
  },
  {
   "cell_type": "code",
   "execution_count": 90,
   "id": "05771a05",
   "metadata": {},
   "outputs": [],
   "source": [
    "b = [2, 3, \"Mindgraph\", 3, 2, 2, 3, {4, 8, 9}, \"Soumya\", 4.53]   # Output should be [2, 3]"
   ]
  },
  {
   "cell_type": "code",
   "execution_count": 92,
   "id": "9d3dd883",
   "metadata": {},
   "outputs": [
    {
     "name": "stdout",
     "output_type": "stream",
     "text": [
      "[2, 3]\n"
     ]
    }
   ],
   "source": [
    "a=set()\n",
    "for i in b:\n",
    "    if type(i)==int:\n",
    "        a.add(i)\n",
    "c=list(a)        \n",
    "print(c)        "
   ]
  },
  {
   "cell_type": "code",
   "execution_count": null,
   "id": "54082c28",
   "metadata": {},
   "outputs": [],
   "source": []
  }
 ],
 "metadata": {
  "kernelspec": {
   "display_name": "Python 3 (ipykernel)",
   "language": "python",
   "name": "python3"
  },
  "language_info": {
   "codemirror_mode": {
    "name": "ipython",
    "version": 3
   },
   "file_extension": ".py",
   "mimetype": "text/x-python",
   "name": "python",
   "nbconvert_exporter": "python",
   "pygments_lexer": "ipython3",
   "version": "3.9.13"
  }
 },
 "nbformat": 4,
 "nbformat_minor": 5
}
